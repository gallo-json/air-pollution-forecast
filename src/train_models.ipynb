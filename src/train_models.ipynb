{
 "metadata": {
  "language_info": {
   "codemirror_mode": {
    "name": "ipython",
    "version": 3
   },
   "file_extension": ".py",
   "mimetype": "text/x-python",
   "name": "python",
   "nbconvert_exporter": "python",
   "pygments_lexer": "ipython3",
   "version": "3.9.5"
  },
  "orig_nbformat": 4,
  "kernelspec": {
   "name": "python3",
   "display_name": "Python 3.9.5 64-bit"
  },
  "interpreter": {
   "hash": "916dbcbb3f70747c44a77c7bcd40155683ae19c65e1c03b4aa3499c5328201f1"
  }
 },
 "nbformat": 4,
 "nbformat_minor": 2,
 "cells": [
  {
   "cell_type": "code",
   "execution_count": 6,
   "metadata": {},
   "outputs": [],
   "source": [
    "import matplotlib.pyplot as plt\n",
    "import matplotlib.dates\n",
    "import tensorflow as tf\n",
    "import pandas as pd\n",
    "import numpy as np\n",
    "import os\n",
    "\n",
    "from sklearn.preprocessing import MinMaxScaler\n",
    "\n",
    "from tensorflow.keras.models import Sequential\n",
    "from tensorflow.keras.layers import Input, Dense, GRU, Embedding\n",
    "from tensorflow.keras.optimizers import RMSprop\n",
    "from tensorflow.keras.callbacks import EarlyStopping, ModelCheckpoint, TensorBoard, ReduceLROnPlateau\n",
    "from tensorflow.keras.backend import square, mean"
   ]
  },
  {
   "cell_type": "code",
   "execution_count": 1,
   "metadata": {},
   "outputs": [
    {
     "output_type": "stream",
     "name": "stdout",
     "text": [
      "'Atascocita C560.csv'\n'Baytown Garth C1017.csv'\n'Baytown Wetlands Center C552.csv'\n'Bunker Hill Village C562.csv'\n'Channelview C15-AH115.csv'\n'Clear Brook High School C570.csv'\n'Clear Creek High School C571.csv'\n'Clear Lake High School C572.csv'\n'Clinton C403-C304-AH113.csv'\n'Clute C11-A111.csv'\n'Conroe C65.csv'\n'Conroe Relocated C78-A321.csv'\n'Crosby Library C553.csv'\n'Danciger C618.csv'\n'Galveston 99th St. C1034-A320-X183.csv'\n'Galveston Airport C34-A109-X152.csv'\n'Hou.DeerPrk2 C35-235-1001-AFH139FP239.csv'\n'Houston Aldine C8-AF108-X150.csv'\n'Houston Bayland Park C53-A146.csv'\n'Houston Crawford C407.csv'\n'Houston Croquet C409.csv'\n'Houston East C1-G316.csv'\n'Houston Harvard Street C417.csv'\n'Houston Manchester C22.csv'\n'Houston Monroe C406.csv'\n'Houston North Wayside C405.csv'\n'Houston Regional Office C81.csv'\n'Houston Texas Avenue C411.csv'\n'Houston Westhollow C410-C3003.csv'\n'HRM-10 Mont Belvieu C610.csv'\n'HRM-11 E Baytown C611.csv'\n'HRM-3 Haden Road C603-A114.csv'\n'HRM-4 Sheldon Rd C604.csv'\n'HRM-7 W Baytown C607.csv'\n'HRM-8 LaPorte C608.csv'\n'Huffman Wolf Road C563.csv'\n'Katy Park C559.csv'\n'Kingwood Library C555.csv'\n'Lake Jackson C1016.csv'\n'Lang C408.csv'\n'La Porte Sylvan Beach C556.csv'\n'Lynchburg Ferry C1015-A165.csv'\n'Manvel Croix Park C84.csv'\n'Mercer Arboretum C557.csv'\n'Meyer Park C561.csv'\n'Mustang Bayou C619.csv'\n'Northwest Harris Co. C26-A110-X154.csv'\n'Oyster Creek C1607.csv'\n'Park Place C416.csv'\n'Pasadena AAMS C672.csv'\n'San Jacinto Monument C166-C245.csv'\n'Seabrook Friendship Park C45.csv'\n'Sheldon C551.csv'\n'Smith Point Hawkins Camp C96-C638.csv'\n'Texas City 34th St. C620.csv'\n'Texas City C10.csv'\n'Tom Bass C558.csv'\n'UH Launch Trailer C1611.csv'\n'UH Moody Tower C695.csv'\n'UH Smith Point C1606.csv'\n'UH West Liberty C699.csv'\n'UH WG Jones Forest C698.csv'\n'U of H-Sugarland C696.csv'\n'Wallisville Road C617.csv'\n'West Houston C554.csv'\n"
     ]
    }
   ],
   "source": [
    "!ls /home/jose/Programming/aiml/Data/houston-AQI-weather/filled-in-data/"
   ]
  },
  {
   "cell_type": "code",
   "execution_count": 28,
   "metadata": {
    "tags": []
   },
   "outputs": [
    {
     "output_type": "stream",
     "name": "stdout",
     "text": [
      "San Jacinto Monument C166-C245.csv\n",
      "Kingwood Library C555.csv\n",
      "HRM-11 E Baytown C611.csv\n",
      "Houston Crawford C407.csv\n",
      "Pasadena AAMS C672.csv\n",
      "Clear Lake High School C572.csv\n",
      "Danciger C618.csv\n",
      "Mustang Bayou C619.csv\n",
      "Smith Point Hawkins Camp C96-C638.csv\n",
      "UH Smith Point C1606.csv\n",
      "Houston Texas Avenue C411.csv\n",
      "HRM-3 Haden Road C603-A114.csv\n",
      "Clute C11-A111.csv\n",
      "Galveston Airport C34-A109-X152.csv\n",
      "UH Launch Trailer C1611.csv\n",
      "Houston Regional Office C81.csv\n",
      "HRM-10 Mont Belvieu C610.csv\n",
      "Houston Manchester C22.csv\n",
      "Clear Creek High School C571.csv\n",
      "Conroe C65.csv\n",
      "HRM-4 Sheldon Rd C604.csv\n",
      "Clear Brook High School C570.csv\n",
      "HRM-8 LaPorte C608.csv\n",
      "U of H-Sugarland C696.csv\n",
      "Texas City C10.csv\n",
      "HRM-7 W Baytown C607.csv\n"
     ]
    }
   ],
   "source": [
    "base_dir = \"/home/jose/Programming/aiml/Data/houston-AQI-weather/filled-in-data/\"\n",
    "\n",
    "for csv_file in os.listdir(base_dir):\n",
    "    df = pd.read_csv(base_dir + csv_file)\n",
    "    if df['Date'].iloc[-1] != '2021-02-28':\n",
    "        print(csv_file)"
   ]
  },
  {
   "cell_type": "code",
   "execution_count": null,
   "metadata": {},
   "outputs": [],
   "source": []
  }
 ]
}