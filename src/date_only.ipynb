{
 "metadata": {
  "language_info": {
   "codemirror_mode": {
    "name": "ipython",
    "version": 3
   },
   "file_extension": ".py",
   "mimetype": "text/x-python",
   "name": "python",
   "nbconvert_exporter": "python",
   "pygments_lexer": "ipython3",
   "version": "3.8.3"
  },
  "orig_nbformat": 2,
  "kernelspec": {
   "name": "python383jvsc74a57bd0dca0ade3e726a953b501b15e8e990130d2b7799f14cfd9f4271676035ebe5511",
   "display_name": "Python 3.8.3 64-bit ('base': conda)"
  }
 },
 "nbformat": 4,
 "nbformat_minor": 2,
 "cells": [
  {
   "cell_type": "code",
   "execution_count": 22,
   "metadata": {},
   "outputs": [],
   "source": [
    "import matplotlib.pyplot as plt\n",
    "import matplotlib.dates\n",
    "import tensorflow as tf\n",
    "import pandas as pd\n",
    "import numpy as np\n",
    "\n",
    "from sklearn.preprocessing import MinMaxScaler\n",
    "from tensorflow.keras.models import Sequential\n",
    "from tensorflow.keras.layers import Input, Dense, GRU, Embedding, Bidirectional, LSTM, Dropout\n",
    "from tensorflow.keras.optimizers import RMSprop\n",
    "from tensorflow.keras.callbacks import EarlyStopping, ModelCheckpoint, TensorBoard, ReduceLROnPlateau\n",
    "from tensorflow.keras.backend import square, mean"
   ]
  },
  {
   "cell_type": "code",
   "execution_count": 2,
   "metadata": {},
   "outputs": [
    {
     "output_type": "execute_result",
     "data": {
      "text/plain": [
       "           Date  AQI  air_temp  dew_point_temp  sea_level_pressure  \\\n",
       "1515 2021-02-24   39      20.0            16.0              1018.0   \n",
       "1516 2021-02-25   30      20.0            17.0              1019.0   \n",
       "1517 2021-02-26   27      21.0            18.0              1014.0   \n",
       "1518 2021-02-27   29      22.0            19.0              1013.0   \n",
       "1519 2021-02-28   29      23.0            19.0              1013.0   \n",
       "\n",
       "      visibility  wind_speed  \n",
       "1515     10000.0      4.3750  \n",
       "1516      9000.0      5.0000  \n",
       "1517     10000.0      5.3125  \n",
       "1518     10000.0      5.9375  \n",
       "1519     10000.0      5.0000  "
      ],
      "text/html": "<div>\n<style scoped>\n    .dataframe tbody tr th:only-of-type {\n        vertical-align: middle;\n    }\n\n    .dataframe tbody tr th {\n        vertical-align: top;\n    }\n\n    .dataframe thead th {\n        text-align: right;\n    }\n</style>\n<table border=\"1\" class=\"dataframe\">\n  <thead>\n    <tr style=\"text-align: right;\">\n      <th></th>\n      <th>Date</th>\n      <th>AQI</th>\n      <th>air_temp</th>\n      <th>dew_point_temp</th>\n      <th>sea_level_pressure</th>\n      <th>visibility</th>\n      <th>wind_speed</th>\n    </tr>\n  </thead>\n  <tbody>\n    <tr>\n      <th>1515</th>\n      <td>2021-02-24</td>\n      <td>39</td>\n      <td>20.0</td>\n      <td>16.0</td>\n      <td>1018.0</td>\n      <td>10000.0</td>\n      <td>4.3750</td>\n    </tr>\n    <tr>\n      <th>1516</th>\n      <td>2021-02-25</td>\n      <td>30</td>\n      <td>20.0</td>\n      <td>17.0</td>\n      <td>1019.0</td>\n      <td>9000.0</td>\n      <td>5.0000</td>\n    </tr>\n    <tr>\n      <th>1517</th>\n      <td>2021-02-26</td>\n      <td>27</td>\n      <td>21.0</td>\n      <td>18.0</td>\n      <td>1014.0</td>\n      <td>10000.0</td>\n      <td>5.3125</td>\n    </tr>\n    <tr>\n      <th>1518</th>\n      <td>2021-02-27</td>\n      <td>29</td>\n      <td>22.0</td>\n      <td>19.0</td>\n      <td>1013.0</td>\n      <td>10000.0</td>\n      <td>5.9375</td>\n    </tr>\n    <tr>\n      <th>1519</th>\n      <td>2021-02-28</td>\n      <td>29</td>\n      <td>23.0</td>\n      <td>19.0</td>\n      <td>1013.0</td>\n      <td>10000.0</td>\n      <td>5.0000</td>\n    </tr>\n  </tbody>\n</table>\n</div>"
     },
     "metadata": {},
     "execution_count": 2
    }
   ],
   "source": [
    "df = pd.read_csv(\"/home/jose/Programming/aiml/Data/houston-AQI-weather/filled-in-data/Oyster Creek C1607.csv\")\n",
    "df['Date'] = pd.to_datetime(df['Date'])\n",
    "del df['Unnamed: 0']\n",
    "\n",
    "df.tail()"
   ]
  },
  {
   "cell_type": "code",
   "execution_count": 3,
   "metadata": {},
   "outputs": [],
   "source": [
    "df['Day'] = df.Date.dt.dayofyear\n",
    "df['Year'] = df.Date.dt.year - 2017\n",
    "df.index = df.Date\n"
   ]
  },
  {
   "cell_type": "code",
   "execution_count": 4,
   "metadata": {},
   "outputs": [
    {
     "output_type": "execute_result",
     "data": {
      "text/plain": [
       "            AQI  Day  Year\n",
       "Date                      \n",
       "2021-02-24   39   55     4\n",
       "2021-02-25   30   56     4\n",
       "2021-02-26   27   57     4\n",
       "2021-02-27   29   58     4\n",
       "2021-02-28   29   59     4"
      ],
      "text/html": "<div>\n<style scoped>\n    .dataframe tbody tr th:only-of-type {\n        vertical-align: middle;\n    }\n\n    .dataframe tbody tr th {\n        vertical-align: top;\n    }\n\n    .dataframe thead th {\n        text-align: right;\n    }\n</style>\n<table border=\"1\" class=\"dataframe\">\n  <thead>\n    <tr style=\"text-align: right;\">\n      <th></th>\n      <th>AQI</th>\n      <th>Day</th>\n      <th>Year</th>\n    </tr>\n    <tr>\n      <th>Date</th>\n      <th></th>\n      <th></th>\n      <th></th>\n    </tr>\n  </thead>\n  <tbody>\n    <tr>\n      <th>2021-02-24</th>\n      <td>39</td>\n      <td>55</td>\n      <td>4</td>\n    </tr>\n    <tr>\n      <th>2021-02-25</th>\n      <td>30</td>\n      <td>56</td>\n      <td>4</td>\n    </tr>\n    <tr>\n      <th>2021-02-26</th>\n      <td>27</td>\n      <td>57</td>\n      <td>4</td>\n    </tr>\n    <tr>\n      <th>2021-02-27</th>\n      <td>29</td>\n      <td>58</td>\n      <td>4</td>\n    </tr>\n    <tr>\n      <th>2021-02-28</th>\n      <td>29</td>\n      <td>59</td>\n      <td>4</td>\n    </tr>\n  </tbody>\n</table>\n</div>"
     },
     "metadata": {},
     "execution_count": 4
    }
   ],
   "source": [
    "### DELETE all the other features, for now\n",
    "del df['Date']\n",
    "del df['air_temp']\n",
    "del df['dew_point_temp']\n",
    "del df['sea_level_pressure']\n",
    "del df['visibility']\n",
    "del df['wind_speed']\n",
    "\n",
    "df.tail()"
   ]
  },
  {
   "cell_type": "code",
   "execution_count": 5,
   "metadata": {},
   "outputs": [],
   "source": [
    "num_x_signals = 2\n",
    "num_y_signals = 1"
   ]
  },
  {
   "cell_type": "code",
   "execution_count": 6,
   "metadata": {},
   "outputs": [
    {
     "output_type": "stream",
     "name": "stdout",
     "text": [
      "(1368, 2)\n(1368, 1)\n"
     ]
    }
   ],
   "source": [
    "num_train = int(0.9 * len(df))\n",
    "\n",
    "x = df[['Day', 'Year']].values\n",
    "y = df.AQI.values\n",
    "\n",
    "x_train = x[:num_train]\n",
    "y_train = np.expand_dims(y[:num_train], axis=1) # Give the extra 1 at the end\n",
    "x_test = x[num_train:]\n",
    "y_test = np.expand_dims(y[num_train:], axis=1)\n",
    "\n",
    "print(x_train.shape)\n",
    "print(y_train.shape)"
   ]
  },
  {
   "cell_type": "code",
   "execution_count": 7,
   "metadata": {},
   "outputs": [],
   "source": [
    "y_scaler = MinMaxScaler()\n",
    "\n",
    "# Don't need to scale x (just dates as features)\n",
    "x_train_scaled = x_train\n",
    "x_test_scaled = x_test\n",
    "\n",
    "y_train_scaled = y_scaler.fit_transform(y_train)\n",
    "y_test_scaled = y_scaler.transform(y_test)"
   ]
  },
  {
   "cell_type": "code",
   "execution_count": 8,
   "metadata": {},
   "outputs": [],
   "source": [
    "def batch_generator(batch_size, sequence_length):\n",
    "    \"\"\"\n",
    "    Generator function for creating random batches of training-data.\n",
    "    \"\"\"\n",
    "\n",
    "    # Infinite loop.\n",
    "    while True:\n",
    "        # Allocate a new array for the batch of input-signals.\n",
    "        x_shape = (batch_size, sequence_length, num_x_signals)\n",
    "        x_batch = np.zeros(shape=x_shape, dtype=np.float16)\n",
    "\n",
    "        # Allocate a new array for the batch of output-signals.\n",
    "        y_shape = (batch_size, sequence_length, num_y_signals)\n",
    "        y_batch = np.zeros(shape=y_shape, dtype=np.float16)\n",
    "\n",
    "        # Fill the batch with random sequences of data.\n",
    "        for i in range(batch_size):\n",
    "            # Get a random start-index.\n",
    "            # This points somewhere into the training-data.\n",
    "            idx = np.random.randint(num_train - sequence_length)\n",
    "            \n",
    "            # Copy the sequences of data starting at this index.\n",
    "            x_batch[i] = x_train_scaled[idx:idx+sequence_length]\n",
    "            y_batch[i] = y_train_scaled[idx:idx+sequence_length]\n",
    "        \n",
    "        yield (x_batch, y_batch)"
   ]
  },
  {
   "cell_type": "code",
   "execution_count": 9,
   "metadata": {},
   "outputs": [],
   "source": [
    "generator = batch_generator(batch_size=128, sequence_length=7 * 8)\n",
    "\n",
    "\n",
    "x_batch, y_batch = next(generator)"
   ]
  },
  {
   "cell_type": "code",
   "execution_count": 10,
   "metadata": {},
   "outputs": [],
   "source": [
    "validation_data = (np.expand_dims(x_test_scaled, axis=0),\n",
    "                   np.expand_dims(y_test_scaled, axis=0))"
   ]
  },
  {
   "cell_type": "code",
   "execution_count": 26,
   "metadata": {},
   "outputs": [],
   "source": [
    "model = Sequential()\n",
    "model.add(Bidirectional(GRU(units=512,\n",
    "              return_sequences=True,\n",
    "              input_shape=(None, num_x_signals,))))\n",
    "\n",
    "model.add(Dropout(0.2))\n",
    "\n",
    "model.add(GRU(units=256,\n",
    "              return_sequences=True))\n",
    "\n",
    "model.add(Dropout(0.2))\n",
    "\n",
    "model.add(Dense(num_y_signals, activation='sigmoid'))"
   ]
  },
  {
   "cell_type": "code",
   "execution_count": 12,
   "metadata": {},
   "outputs": [],
   "source": [
    "warmup_steps = 15\n",
    "def loss_mse_warmup(y_true, y_pred):\n",
    "    \"\"\"\n",
    "    Calculate the Mean Squared Error between y_true and y_pred,\n",
    "    but ignore the beginning \"warmup\" part of the sequences.\n",
    "    \n",
    "    y_true is the desired output.\n",
    "    y_pred is the model's output.\n",
    "    \"\"\"\n",
    "\n",
    "    # The shape of both input tensors are:\n",
    "    # [batch_size, sequence_length, num_y_signals].\n",
    "\n",
    "    # Ignore the \"warmup\" parts of the sequences\n",
    "    # by taking slices of the tensors.\n",
    "    y_true_slice = y_true[:, warmup_steps:, :]\n",
    "    y_pred_slice = y_pred[:, warmup_steps:, :]\n",
    "\n",
    "    # These sliced tensors both have this shape:\n",
    "    # [batch_size, sequence_length - warmup_steps, num_y_signals]\n",
    "\n",
    "    # Calculat the Mean Squared Error and use it as loss.\n",
    "    mse = mean(square(y_true_slice - y_pred_slice))\n",
    "    \n",
    "    return mse"
   ]
  },
  {
   "cell_type": "code",
   "execution_count": 39,
   "metadata": {},
   "outputs": [],
   "source": [
    "path_checkpoint = '../checkpoints_date/'\n",
    "callback_checkpoint = ModelCheckpoint(filepath=path_checkpoint,\n",
    "                                      monitor='val_loss',\n",
    "                                      verbose=1,\n",
    "                                      save_weights_only=True,\n",
    "                                      save_best_only=True)"
   ]
  },
  {
   "cell_type": "code",
   "execution_count": 35,
   "metadata": {},
   "outputs": [],
   "source": [
    "callback_reduce_lr = ReduceLROnPlateau(monitor='val_loss',\n",
    "                                       factor=0.1,\n",
    "                                       min_lr=1e-4,\n",
    "                                       patience=0,\n",
    "                                       verbose=1)"
   ]
  },
  {
   "cell_type": "code",
   "execution_count": 40,
   "metadata": {},
   "outputs": [],
   "source": [
    "optimizer = RMSprop(lr=1e-3)\n",
    "model.compile(loss=loss_mse_warmup, optimizer=optimizer)"
   ]
  },
  {
   "cell_type": "code",
   "execution_count": 41,
   "metadata": {},
   "outputs": [
    {
     "output_type": "stream",
     "name": "stdout",
     "text": [
      "Epoch 1/20\n",
      "100/100 [==============================] - ETA: 0s - loss: 0.0086\n",
      "Epoch 00001: val_loss improved from inf to 0.00441, saving model to ../checkpoints_date/\n",
      "100/100 [==============================] - 15s 151ms/step - loss: 0.0086 - val_loss: 0.0044\n",
      "Epoch 2/20\n",
      "100/100 [==============================] - ETA: 0s - loss: 0.0081\n",
      "Epoch 00002: val_loss did not improve from 0.00441\n",
      "\n",
      "Epoch 00002: ReduceLROnPlateau reducing learning rate to 0.00010000000474974513.\n",
      "100/100 [==============================] - 14s 144ms/step - loss: 0.0081 - val_loss: 0.0062\n",
      "Epoch 3/20\n",
      "100/100 [==============================] - ETA: 0s - loss: 0.0065\n",
      "Epoch 00003: val_loss did not improve from 0.00441\n",
      "\n",
      "Epoch 00003: ReduceLROnPlateau reducing learning rate to 0.0001.\n",
      "100/100 [==============================] - 14s 144ms/step - loss: 0.0065 - val_loss: 0.0052\n",
      "Epoch 4/20\n",
      "100/100 [==============================] - ETA: 0s - loss: 0.0064\n",
      "Epoch 00004: val_loss did not improve from 0.00441\n",
      "100/100 [==============================] - 14s 144ms/step - loss: 0.0064 - val_loss: 0.0051\n",
      "Epoch 5/20\n",
      "100/100 [==============================] - ETA: 0s - loss: 0.0062\n",
      "Epoch 00005: val_loss did not improve from 0.00441\n",
      "100/100 [==============================] - 14s 144ms/step - loss: 0.0062 - val_loss: 0.0051\n",
      "Epoch 6/20\n",
      "100/100 [==============================] - ETA: 0s - loss: 0.0061\n",
      "Epoch 00006: val_loss did not improve from 0.00441\n",
      "100/100 [==============================] - 14s 144ms/step - loss: 0.0061 - val_loss: 0.0048\n",
      "Epoch 7/20\n",
      "100/100 [==============================] - ETA: 0s - loss: 0.0060\n",
      "Epoch 00007: val_loss did not improve from 0.00441\n",
      "100/100 [==============================] - 14s 144ms/step - loss: 0.0060 - val_loss: 0.0049\n",
      "Epoch 8/20\n",
      "100/100 [==============================] - ETA: 0s - loss: 0.0061\n",
      "Epoch 00008: val_loss did not improve from 0.00441\n",
      "100/100 [==============================] - 14s 144ms/step - loss: 0.0061 - val_loss: 0.0048\n",
      "Epoch 9/20\n",
      "100/100 [==============================] - ETA: 0s - loss: 0.0060\n",
      "Epoch 00009: val_loss did not improve from 0.00441\n",
      "100/100 [==============================] - 14s 144ms/step - loss: 0.0060 - val_loss: 0.0046\n",
      "Epoch 10/20\n",
      "100/100 [==============================] - ETA: 0s - loss: 0.0060\n",
      "Epoch 00010: val_loss did not improve from 0.00441\n",
      "100/100 [==============================] - 14s 144ms/step - loss: 0.0060 - val_loss: 0.0047\n",
      "Epoch 11/20\n",
      "100/100 [==============================] - ETA: 0s - loss: 0.0058\n",
      "Epoch 00011: val_loss did not improve from 0.00441\n",
      "100/100 [==============================] - 14s 144ms/step - loss: 0.0058 - val_loss: 0.0048\n",
      "Epoch 12/20\n",
      "100/100 [==============================] - ETA: 0s - loss: 0.0059\n",
      "Epoch 00012: val_loss did not improve from 0.00441\n",
      "100/100 [==============================] - 14s 144ms/step - loss: 0.0059 - val_loss: 0.0048\n",
      "Epoch 13/20\n",
      "100/100 [==============================] - ETA: 0s - loss: 0.0060\n",
      "Epoch 00013: val_loss did not improve from 0.00441\n",
      "100/100 [==============================] - 14s 144ms/step - loss: 0.0060 - val_loss: 0.0049\n",
      "Epoch 14/20\n",
      "100/100 [==============================] - ETA: 0s - loss: 0.0058\n",
      "Epoch 00014: val_loss did not improve from 0.00441\n",
      "100/100 [==============================] - 14s 144ms/step - loss: 0.0058 - val_loss: 0.0050\n",
      "Epoch 15/20\n",
      "100/100 [==============================] - ETA: 0s - loss: 0.0057\n",
      "Epoch 00015: val_loss did not improve from 0.00441\n",
      "100/100 [==============================] - 14s 144ms/step - loss: 0.0057 - val_loss: 0.0046\n",
      "Epoch 16/20\n",
      "100/100 [==============================] - ETA: 0s - loss: 0.0057\n",
      "Epoch 00016: val_loss did not improve from 0.00441\n",
      "100/100 [==============================] - 14s 144ms/step - loss: 0.0057 - val_loss: 0.0048\n",
      "Epoch 17/20\n",
      "100/100 [==============================] - ETA: 0s - loss: 0.0055\n",
      "Epoch 00017: val_loss did not improve from 0.00441\n",
      "100/100 [==============================] - 14s 144ms/step - loss: 0.0055 - val_loss: 0.0048\n",
      "Epoch 18/20\n",
      "100/100 [==============================] - ETA: 0s - loss: 0.0055\n",
      "Epoch 00018: val_loss did not improve from 0.00441\n",
      "100/100 [==============================] - 14s 145ms/step - loss: 0.0055 - val_loss: 0.0051\n",
      "Epoch 19/20\n",
      "100/100 [==============================] - ETA: 0s - loss: 0.0056\n",
      "Epoch 00019: val_loss did not improve from 0.00441\n",
      "100/100 [==============================] - 14s 145ms/step - loss: 0.0056 - val_loss: 0.0050\n",
      "Epoch 20/20\n",
      "100/100 [==============================] - ETA: 0s - loss: 0.0054\n",
      "Epoch 00020: val_loss did not improve from 0.00441\n",
      "100/100 [==============================] - 14s 144ms/step - loss: 0.0054 - val_loss: 0.0051\n"
     ]
    },
    {
     "output_type": "execute_result",
     "data": {
      "text/plain": [
       "<tensorflow.python.keras.callbacks.History at 0x7fd9344d5760>"
      ]
     },
     "metadata": {},
     "execution_count": 41
    }
   ],
   "source": [
    "model.fit(x=generator,\n",
    "          epochs=20,\n",
    "          steps_per_epoch=100,\n",
    "          validation_data=validation_data,\n",
    "          callbacks=[callback_checkpoint,\n",
    "             callback_reduce_lr])"
   ]
  },
  {
   "cell_type": "code",
   "execution_count": 42,
   "metadata": {},
   "outputs": [
    {
     "output_type": "execute_result",
     "data": {
      "text/plain": [
       "<tensorflow.python.training.tracking.util.CheckpointLoadStatus at 0x7fd918687f40>"
      ]
     },
     "metadata": {},
     "execution_count": 42
    }
   ],
   "source": [
    "model.load_weights(path_checkpoint)"
   ]
  },
  {
   "cell_type": "code",
   "execution_count": 43,
   "metadata": {},
   "outputs": [
    {
     "output_type": "stream",
     "name": "stdout",
     "text": [
      "1/1 [==============================] - 0s 1ms/step - loss: 0.0044\n"
     ]
    }
   ],
   "source": [
    "result = model.evaluate(x=np.expand_dims(x_test_scaled, axis=0),\n",
    "                        y=np.expand_dims(y_test_scaled, axis=0))"
   ]
  },
  {
   "cell_type": "code",
   "execution_count": 44,
   "metadata": {},
   "outputs": [],
   "source": [
    "def plot_comparison(start_idx, length=100, train=True):\n",
    "    \"\"\"\n",
    "    Plot the predicted and true output-signals.\n",
    "    \n",
    "    :param start_idx: Start-index for the time-series.\n",
    "    :param length: Sequence-length to process and plot.\n",
    "    :param train: Boolean whether to use training- or test-set.\n",
    "    \"\"\"\n",
    "    \n",
    "    if train:\n",
    "        # Use training-data.\n",
    "        x = x_train_scaled\n",
    "        y_true = y_train\n",
    "    else:\n",
    "        # Use test-data.\n",
    "        x = x_test_scaled\n",
    "        y_true = y_test\n",
    "    \n",
    "    # End-index for the sequences.\n",
    "    end_idx = start_idx + length\n",
    "    \n",
    "    # Select the sequences from the given start-index and\n",
    "    # of the given length.\n",
    "    x = x[start_idx:end_idx]\n",
    "    y_true = y_true[start_idx:end_idx]\n",
    "    \n",
    "    # Input-signals for the model.\n",
    "    x = np.expand_dims(x, axis=0)\n",
    "\n",
    "    # Use the model to predict the output-signals.\n",
    "    y_pred = model.predict(x)\n",
    "    \n",
    "    # The output of the model is between 0 and 1.\n",
    "    # Do an inverse map to get it back to the scale\n",
    "    # of the original data-set.\n",
    "    y_pred_rescaled = y_scaler.inverse_transform(y_pred[0])\n",
    "    \n",
    "    # For each output-signal.\n",
    "    for signal in range(1):\n",
    "        # Get the output-signal predicted by the model.\n",
    "        signal_pred = y_pred_rescaled[:, signal]\n",
    "        \n",
    "        # Get the true output-signal from the data-set.\n",
    "        signal_true = y_true[:, signal]\n",
    "\n",
    "        # Make the plotting-canvas bigger.\n",
    "        plt.figure(figsize=(15,5))\n",
    "        \n",
    "        # Plot and compare the two signals.\n",
    "        plt.plot(signal_true, label='true')\n",
    "        plt.plot(signal_pred, label='pred')\n",
    "        \n",
    "        # Plot grey box for warmup-period.\n",
    "        p = plt.axvspan(0, warmup_steps, facecolor='black', alpha=0.15)\n",
    "        \n",
    "        # Plot labels etc.\n",
    "        plt.legend()\n",
    "        plt.show()\n",
    "\n"
   ]
  },
  {
   "cell_type": "code",
   "execution_count": 46,
   "metadata": {},
   "outputs": [
    {
     "output_type": "stream",
     "name": "stdout",
     "text": [
      "WARNING:tensorflow:6 out of the last 6 calls to <function Model.make_predict_function.<locals>.predict_function at 0x7fd918edf550> triggered tf.function retracing. Tracing is expensive and the excessive number of tracings could be due to (1) creating @tf.function repeatedly in a loop, (2) passing tensors with different shapes, (3) passing Python objects instead of tensors. For (1), please define your @tf.function outside of the loop. For (2), @tf.function has experimental_relax_shapes=True option that relaxes argument shapes that can avoid unnecessary retracing. For (3), please refer to https://www.tensorflow.org/tutorials/customization/performance#python_or_tensor_args and https://www.tensorflow.org/api_docs/python/tf/function for  more details.\n"
     ]
    },
    {
     "output_type": "display_data",
     "data": {
      "text/plain": "<Figure size 1080x360 with 1 Axes>",
      "image/svg+xml": "<?xml version=\"1.0\" encoding=\"utf-8\" standalone=\"no\"?>\n<!DOCTYPE svg PUBLIC \"-//W3C//DTD SVG 1.1//EN\"\n  \"http://www.w3.org/Graphics/SVG/1.1/DTD/svg11.dtd\">\n<!-- Created with matplotlib (https://matplotlib.org/) -->\n<svg height=\"302.878125pt\" version=\"1.1\" viewBox=\"0 0 871.125 302.878125\" width=\"871.125pt\" xmlns=\"http://www.w3.org/2000/svg\" xmlns:xlink=\"http://www.w3.org/1999/xlink\">\n <metadata>\n  <rdf:RDF xmlns:cc=\"http://creativecommons.org/ns#\" xmlns:dc=\"http://purl.org/dc/elements/1.1/\" xmlns:rdf=\"http://www.w3.org/1999/02/22-rdf-syntax-ns#\">\n   <cc:Work>\n    <dc:type rdf:resource=\"http://purl.org/dc/dcmitype/StillImage\"/>\n    <dc:date>2021-05-03T08:22:02.105050</dc:date>\n    <dc:format>image/svg+xml</dc:format>\n    <dc:creator>\n     <cc:Agent>\n      <dc:title>Matplotlib v3.3.3, https://matplotlib.org/</dc:title>\n     </cc:Agent>\n    </dc:creator>\n   </cc:Work>\n  </rdf:RDF>\n </metadata>\n <defs>\n  <style type=\"text/css\">*{stroke-linecap:butt;stroke-linejoin:round;}</style>\n </defs>\n <g id=\"figure_1\">\n  <g id=\"patch_1\">\n   <path d=\"M 0 302.878125 \nL 871.125 302.878125 \nL 871.125 0 \nL 0 0 \nz\n\" style=\"fill:none;\"/>\n  </g>\n  <g id=\"axes_1\">\n   <g id=\"patch_2\">\n    <path d=\"M 26.925 279 \nL 863.925 279 \nL 863.925 7.2 \nL 26.925 7.2 \nz\n\" style=\"fill:#ffffff;\"/>\n   </g>\n   <g id=\"patch_3\">\n    <path clip-path=\"url(#peb4e586aa4)\" d=\"M 64.970455 279 \nL 64.970455 7.2 \nL 140.55745 7.2 \nL 140.55745 279 \nz\n\" style=\"opacity:0.15;\"/>\n   </g>\n   <g id=\"matplotlib.axis_1\">\n    <g id=\"xtick_1\">\n     <g id=\"line2d_1\">\n      <defs>\n       <path d=\"M 0 0 \nL 0 3.5 \n\" id=\"mf1a4eb1b0e\" style=\"stroke:#000000;stroke-width:0.8;\"/>\n      </defs>\n      <g>\n       <use style=\"stroke:#000000;stroke-width:0.8;\" x=\"64.970455\" xlink:href=\"#mf1a4eb1b0e\" y=\"279\"/>\n      </g>\n     </g>\n     <g id=\"text_1\">\n      <!-- 0 -->\n      <g transform=\"translate(61.789205 293.598437)scale(0.1 -0.1)\">\n       <defs>\n        <path d=\"M 31.78125 66.40625 \nQ 24.171875 66.40625 20.328125 58.90625 \nQ 16.5 51.421875 16.5 36.375 \nQ 16.5 21.390625 20.328125 13.890625 \nQ 24.171875 6.390625 31.78125 6.390625 \nQ 39.453125 6.390625 43.28125 13.890625 \nQ 47.125 21.390625 47.125 36.375 \nQ 47.125 51.421875 43.28125 58.90625 \nQ 39.453125 66.40625 31.78125 66.40625 \nz\nM 31.78125 74.21875 \nQ 44.046875 74.21875 50.515625 64.515625 \nQ 56.984375 54.828125 56.984375 36.375 \nQ 56.984375 17.96875 50.515625 8.265625 \nQ 44.046875 -1.421875 31.78125 -1.421875 \nQ 19.53125 -1.421875 13.0625 8.265625 \nQ 6.59375 17.96875 6.59375 36.375 \nQ 6.59375 54.828125 13.0625 64.515625 \nQ 19.53125 74.21875 31.78125 74.21875 \nz\n\" id=\"DejaVuSans-48\"/>\n       </defs>\n       <use xlink:href=\"#DejaVuSans-48\"/>\n      </g>\n     </g>\n    </g>\n    <g id=\"xtick_2\">\n     <g id=\"line2d_2\">\n      <g>\n       <use style=\"stroke:#000000;stroke-width:0.8;\" x=\"165.753116\" xlink:href=\"#mf1a4eb1b0e\" y=\"279\"/>\n      </g>\n     </g>\n     <g id=\"text_2\">\n      <!-- 20 -->\n      <g transform=\"translate(159.390616 293.598437)scale(0.1 -0.1)\">\n       <defs>\n        <path d=\"M 19.1875 8.296875 \nL 53.609375 8.296875 \nL 53.609375 0 \nL 7.328125 0 \nL 7.328125 8.296875 \nQ 12.9375 14.109375 22.625 23.890625 \nQ 32.328125 33.6875 34.8125 36.53125 \nQ 39.546875 41.84375 41.421875 45.53125 \nQ 43.3125 49.21875 43.3125 52.78125 \nQ 43.3125 58.59375 39.234375 62.25 \nQ 35.15625 65.921875 28.609375 65.921875 \nQ 23.96875 65.921875 18.8125 64.3125 \nQ 13.671875 62.703125 7.8125 59.421875 \nL 7.8125 69.390625 \nQ 13.765625 71.78125 18.9375 73 \nQ 24.125 74.21875 28.421875 74.21875 \nQ 39.75 74.21875 46.484375 68.546875 \nQ 53.21875 62.890625 53.21875 53.421875 \nQ 53.21875 48.921875 51.53125 44.890625 \nQ 49.859375 40.875 45.40625 35.40625 \nQ 44.1875 33.984375 37.640625 27.21875 \nQ 31.109375 20.453125 19.1875 8.296875 \nz\n\" id=\"DejaVuSans-50\"/>\n       </defs>\n       <use xlink:href=\"#DejaVuSans-50\"/>\n       <use x=\"63.623047\" xlink:href=\"#DejaVuSans-48\"/>\n      </g>\n     </g>\n    </g>\n    <g id=\"xtick_3\">\n     <g id=\"line2d_3\">\n      <g>\n       <use style=\"stroke:#000000;stroke-width:0.8;\" x=\"266.535777\" xlink:href=\"#mf1a4eb1b0e\" y=\"279\"/>\n      </g>\n     </g>\n     <g id=\"text_3\">\n      <!-- 40 -->\n      <g transform=\"translate(260.173277 293.598437)scale(0.1 -0.1)\">\n       <defs>\n        <path d=\"M 37.796875 64.3125 \nL 12.890625 25.390625 \nL 37.796875 25.390625 \nz\nM 35.203125 72.90625 \nL 47.609375 72.90625 \nL 47.609375 25.390625 \nL 58.015625 25.390625 \nL 58.015625 17.1875 \nL 47.609375 17.1875 \nL 47.609375 0 \nL 37.796875 0 \nL 37.796875 17.1875 \nL 4.890625 17.1875 \nL 4.890625 26.703125 \nz\n\" id=\"DejaVuSans-52\"/>\n       </defs>\n       <use xlink:href=\"#DejaVuSans-52\"/>\n       <use x=\"63.623047\" xlink:href=\"#DejaVuSans-48\"/>\n      </g>\n     </g>\n    </g>\n    <g id=\"xtick_4\">\n     <g id=\"line2d_4\">\n      <g>\n       <use style=\"stroke:#000000;stroke-width:0.8;\" x=\"367.318438\" xlink:href=\"#mf1a4eb1b0e\" y=\"279\"/>\n      </g>\n     </g>\n     <g id=\"text_4\">\n      <!-- 60 -->\n      <g transform=\"translate(360.955938 293.598437)scale(0.1 -0.1)\">\n       <defs>\n        <path d=\"M 33.015625 40.375 \nQ 26.375 40.375 22.484375 35.828125 \nQ 18.609375 31.296875 18.609375 23.390625 \nQ 18.609375 15.53125 22.484375 10.953125 \nQ 26.375 6.390625 33.015625 6.390625 \nQ 39.65625 6.390625 43.53125 10.953125 \nQ 47.40625 15.53125 47.40625 23.390625 \nQ 47.40625 31.296875 43.53125 35.828125 \nQ 39.65625 40.375 33.015625 40.375 \nz\nM 52.59375 71.296875 \nL 52.59375 62.3125 \nQ 48.875 64.0625 45.09375 64.984375 \nQ 41.3125 65.921875 37.59375 65.921875 \nQ 27.828125 65.921875 22.671875 59.328125 \nQ 17.53125 52.734375 16.796875 39.40625 \nQ 19.671875 43.65625 24.015625 45.921875 \nQ 28.375 48.1875 33.59375 48.1875 \nQ 44.578125 48.1875 50.953125 41.515625 \nQ 57.328125 34.859375 57.328125 23.390625 \nQ 57.328125 12.15625 50.6875 5.359375 \nQ 44.046875 -1.421875 33.015625 -1.421875 \nQ 20.359375 -1.421875 13.671875 8.265625 \nQ 6.984375 17.96875 6.984375 36.375 \nQ 6.984375 53.65625 15.1875 63.9375 \nQ 23.390625 74.21875 37.203125 74.21875 \nQ 40.921875 74.21875 44.703125 73.484375 \nQ 48.484375 72.75 52.59375 71.296875 \nz\n\" id=\"DejaVuSans-54\"/>\n       </defs>\n       <use xlink:href=\"#DejaVuSans-54\"/>\n       <use x=\"63.623047\" xlink:href=\"#DejaVuSans-48\"/>\n      </g>\n     </g>\n    </g>\n    <g id=\"xtick_5\">\n     <g id=\"line2d_5\">\n      <g>\n       <use style=\"stroke:#000000;stroke-width:0.8;\" x=\"468.101099\" xlink:href=\"#mf1a4eb1b0e\" y=\"279\"/>\n      </g>\n     </g>\n     <g id=\"text_5\">\n      <!-- 80 -->\n      <g transform=\"translate(461.738599 293.598437)scale(0.1 -0.1)\">\n       <defs>\n        <path d=\"M 31.78125 34.625 \nQ 24.75 34.625 20.71875 30.859375 \nQ 16.703125 27.09375 16.703125 20.515625 \nQ 16.703125 13.921875 20.71875 10.15625 \nQ 24.75 6.390625 31.78125 6.390625 \nQ 38.8125 6.390625 42.859375 10.171875 \nQ 46.921875 13.96875 46.921875 20.515625 \nQ 46.921875 27.09375 42.890625 30.859375 \nQ 38.875 34.625 31.78125 34.625 \nz\nM 21.921875 38.8125 \nQ 15.578125 40.375 12.03125 44.71875 \nQ 8.5 49.078125 8.5 55.328125 \nQ 8.5 64.0625 14.71875 69.140625 \nQ 20.953125 74.21875 31.78125 74.21875 \nQ 42.671875 74.21875 48.875 69.140625 \nQ 55.078125 64.0625 55.078125 55.328125 \nQ 55.078125 49.078125 51.53125 44.71875 \nQ 48 40.375 41.703125 38.8125 \nQ 48.828125 37.15625 52.796875 32.3125 \nQ 56.78125 27.484375 56.78125 20.515625 \nQ 56.78125 9.90625 50.3125 4.234375 \nQ 43.84375 -1.421875 31.78125 -1.421875 \nQ 19.734375 -1.421875 13.25 4.234375 \nQ 6.78125 9.90625 6.78125 20.515625 \nQ 6.78125 27.484375 10.78125 32.3125 \nQ 14.796875 37.15625 21.921875 38.8125 \nz\nM 18.3125 54.390625 \nQ 18.3125 48.734375 21.84375 45.5625 \nQ 25.390625 42.390625 31.78125 42.390625 \nQ 38.140625 42.390625 41.71875 45.5625 \nQ 45.3125 48.734375 45.3125 54.390625 \nQ 45.3125 60.0625 41.71875 63.234375 \nQ 38.140625 66.40625 31.78125 66.40625 \nQ 25.390625 66.40625 21.84375 63.234375 \nQ 18.3125 60.0625 18.3125 54.390625 \nz\n\" id=\"DejaVuSans-56\"/>\n       </defs>\n       <use xlink:href=\"#DejaVuSans-56\"/>\n       <use x=\"63.623047\" xlink:href=\"#DejaVuSans-48\"/>\n      </g>\n     </g>\n    </g>\n    <g id=\"xtick_6\">\n     <g id=\"line2d_6\">\n      <g>\n       <use style=\"stroke:#000000;stroke-width:0.8;\" x=\"568.88376\" xlink:href=\"#mf1a4eb1b0e\" y=\"279\"/>\n      </g>\n     </g>\n     <g id=\"text_6\">\n      <!-- 100 -->\n      <g transform=\"translate(559.34001 293.598437)scale(0.1 -0.1)\">\n       <defs>\n        <path d=\"M 12.40625 8.296875 \nL 28.515625 8.296875 \nL 28.515625 63.921875 \nL 10.984375 60.40625 \nL 10.984375 69.390625 \nL 28.421875 72.90625 \nL 38.28125 72.90625 \nL 38.28125 8.296875 \nL 54.390625 8.296875 \nL 54.390625 0 \nL 12.40625 0 \nz\n\" id=\"DejaVuSans-49\"/>\n       </defs>\n       <use xlink:href=\"#DejaVuSans-49\"/>\n       <use x=\"63.623047\" xlink:href=\"#DejaVuSans-48\"/>\n       <use x=\"127.246094\" xlink:href=\"#DejaVuSans-48\"/>\n      </g>\n     </g>\n    </g>\n    <g id=\"xtick_7\">\n     <g id=\"line2d_7\">\n      <g>\n       <use style=\"stroke:#000000;stroke-width:0.8;\" x=\"669.666421\" xlink:href=\"#mf1a4eb1b0e\" y=\"279\"/>\n      </g>\n     </g>\n     <g id=\"text_7\">\n      <!-- 120 -->\n      <g transform=\"translate(660.122671 293.598437)scale(0.1 -0.1)\">\n       <use xlink:href=\"#DejaVuSans-49\"/>\n       <use x=\"63.623047\" xlink:href=\"#DejaVuSans-50\"/>\n       <use x=\"127.246094\" xlink:href=\"#DejaVuSans-48\"/>\n      </g>\n     </g>\n    </g>\n    <g id=\"xtick_8\">\n     <g id=\"line2d_8\">\n      <g>\n       <use style=\"stroke:#000000;stroke-width:0.8;\" x=\"770.449082\" xlink:href=\"#mf1a4eb1b0e\" y=\"279\"/>\n      </g>\n     </g>\n     <g id=\"text_8\">\n      <!-- 140 -->\n      <g transform=\"translate(760.905332 293.598437)scale(0.1 -0.1)\">\n       <use xlink:href=\"#DejaVuSans-49\"/>\n       <use x=\"63.623047\" xlink:href=\"#DejaVuSans-52\"/>\n       <use x=\"127.246094\" xlink:href=\"#DejaVuSans-48\"/>\n      </g>\n     </g>\n    </g>\n   </g>\n   <g id=\"matplotlib.axis_2\">\n    <g id=\"ytick_1\">\n     <g id=\"line2d_9\">\n      <defs>\n       <path d=\"M 0 0 \nL -3.5 0 \n\" id=\"m1a0b2b25fe\" style=\"stroke:#000000;stroke-width:0.8;\"/>\n      </defs>\n      <g>\n       <use style=\"stroke:#000000;stroke-width:0.8;\" x=\"26.925\" xlink:href=\"#m1a0b2b25fe\" y=\"236.824138\"/>\n      </g>\n     </g>\n     <g id=\"text_9\">\n      <!-- 20 -->\n      <g transform=\"translate(7.2 240.623357)scale(0.1 -0.1)\">\n       <use xlink:href=\"#DejaVuSans-50\"/>\n       <use x=\"63.623047\" xlink:href=\"#DejaVuSans-48\"/>\n      </g>\n     </g>\n    </g>\n    <g id=\"ytick_2\">\n     <g id=\"line2d_10\">\n      <g>\n       <use style=\"stroke:#000000;stroke-width:0.8;\" x=\"26.925\" xlink:href=\"#m1a0b2b25fe\" y=\"194.222257\"/>\n      </g>\n     </g>\n     <g id=\"text_10\">\n      <!-- 30 -->\n      <g transform=\"translate(7.2 198.021476)scale(0.1 -0.1)\">\n       <defs>\n        <path d=\"M 40.578125 39.3125 \nQ 47.65625 37.796875 51.625 33 \nQ 55.609375 28.21875 55.609375 21.1875 \nQ 55.609375 10.40625 48.1875 4.484375 \nQ 40.765625 -1.421875 27.09375 -1.421875 \nQ 22.515625 -1.421875 17.65625 -0.515625 \nQ 12.796875 0.390625 7.625 2.203125 \nL 7.625 11.71875 \nQ 11.71875 9.328125 16.59375 8.109375 \nQ 21.484375 6.890625 26.8125 6.890625 \nQ 36.078125 6.890625 40.9375 10.546875 \nQ 45.796875 14.203125 45.796875 21.1875 \nQ 45.796875 27.640625 41.28125 31.265625 \nQ 36.765625 34.90625 28.71875 34.90625 \nL 20.21875 34.90625 \nL 20.21875 43.015625 \nL 29.109375 43.015625 \nQ 36.375 43.015625 40.234375 45.921875 \nQ 44.09375 48.828125 44.09375 54.296875 \nQ 44.09375 59.90625 40.109375 62.90625 \nQ 36.140625 65.921875 28.71875 65.921875 \nQ 24.65625 65.921875 20.015625 65.03125 \nQ 15.375 64.15625 9.8125 62.3125 \nL 9.8125 71.09375 \nQ 15.4375 72.65625 20.34375 73.4375 \nQ 25.25 74.21875 29.59375 74.21875 \nQ 40.828125 74.21875 47.359375 69.109375 \nQ 53.90625 64.015625 53.90625 55.328125 \nQ 53.90625 49.265625 50.4375 45.09375 \nQ 46.96875 40.921875 40.578125 39.3125 \nz\n\" id=\"DejaVuSans-51\"/>\n       </defs>\n       <use xlink:href=\"#DejaVuSans-51\"/>\n       <use x=\"63.623047\" xlink:href=\"#DejaVuSans-48\"/>\n      </g>\n     </g>\n    </g>\n    <g id=\"ytick_3\">\n     <g id=\"line2d_11\">\n      <g>\n       <use style=\"stroke:#000000;stroke-width:0.8;\" x=\"26.925\" xlink:href=\"#m1a0b2b25fe\" y=\"151.620376\"/>\n      </g>\n     </g>\n     <g id=\"text_11\">\n      <!-- 40 -->\n      <g transform=\"translate(7.2 155.419595)scale(0.1 -0.1)\">\n       <use xlink:href=\"#DejaVuSans-52\"/>\n       <use x=\"63.623047\" xlink:href=\"#DejaVuSans-48\"/>\n      </g>\n     </g>\n    </g>\n    <g id=\"ytick_4\">\n     <g id=\"line2d_12\">\n      <g>\n       <use style=\"stroke:#000000;stroke-width:0.8;\" x=\"26.925\" xlink:href=\"#m1a0b2b25fe\" y=\"109.018495\"/>\n      </g>\n     </g>\n     <g id=\"text_12\">\n      <!-- 50 -->\n      <g transform=\"translate(7.2 112.817714)scale(0.1 -0.1)\">\n       <defs>\n        <path d=\"M 10.796875 72.90625 \nL 49.515625 72.90625 \nL 49.515625 64.59375 \nL 19.828125 64.59375 \nL 19.828125 46.734375 \nQ 21.96875 47.46875 24.109375 47.828125 \nQ 26.265625 48.1875 28.421875 48.1875 \nQ 40.625 48.1875 47.75 41.5 \nQ 54.890625 34.8125 54.890625 23.390625 \nQ 54.890625 11.625 47.5625 5.09375 \nQ 40.234375 -1.421875 26.90625 -1.421875 \nQ 22.3125 -1.421875 17.546875 -0.640625 \nQ 12.796875 0.140625 7.71875 1.703125 \nL 7.71875 11.625 \nQ 12.109375 9.234375 16.796875 8.0625 \nQ 21.484375 6.890625 26.703125 6.890625 \nQ 35.15625 6.890625 40.078125 11.328125 \nQ 45.015625 15.765625 45.015625 23.390625 \nQ 45.015625 31 40.078125 35.4375 \nQ 35.15625 39.890625 26.703125 39.890625 \nQ 22.75 39.890625 18.8125 39.015625 \nQ 14.890625 38.140625 10.796875 36.28125 \nz\n\" id=\"DejaVuSans-53\"/>\n       </defs>\n       <use xlink:href=\"#DejaVuSans-53\"/>\n       <use x=\"63.623047\" xlink:href=\"#DejaVuSans-48\"/>\n      </g>\n     </g>\n    </g>\n    <g id=\"ytick_5\">\n     <g id=\"line2d_13\">\n      <g>\n       <use style=\"stroke:#000000;stroke-width:0.8;\" x=\"26.925\" xlink:href=\"#m1a0b2b25fe\" y=\"66.416614\"/>\n      </g>\n     </g>\n     <g id=\"text_13\">\n      <!-- 60 -->\n      <g transform=\"translate(7.2 70.215833)scale(0.1 -0.1)\">\n       <use xlink:href=\"#DejaVuSans-54\"/>\n       <use x=\"63.623047\" xlink:href=\"#DejaVuSans-48\"/>\n      </g>\n     </g>\n    </g>\n    <g id=\"ytick_6\">\n     <g id=\"line2d_14\">\n      <g>\n       <use style=\"stroke:#000000;stroke-width:0.8;\" x=\"26.925\" xlink:href=\"#m1a0b2b25fe\" y=\"23.814734\"/>\n      </g>\n     </g>\n     <g id=\"text_14\">\n      <!-- 70 -->\n      <g transform=\"translate(7.2 27.613952)scale(0.1 -0.1)\">\n       <defs>\n        <path d=\"M 8.203125 72.90625 \nL 55.078125 72.90625 \nL 55.078125 68.703125 \nL 28.609375 0 \nL 18.3125 0 \nL 43.21875 64.59375 \nL 8.203125 64.59375 \nz\n\" id=\"DejaVuSans-55\"/>\n       </defs>\n       <use xlink:href=\"#DejaVuSans-55\"/>\n       <use x=\"63.623047\" xlink:href=\"#DejaVuSans-48\"/>\n      </g>\n     </g>\n    </g>\n   </g>\n   <g id=\"line2d_15\">\n    <path clip-path=\"url(#peb4e586aa4)\" d=\"M 64.970455 62.156426 \nL 70.009588 23.814734 \nL 75.048721 79.197179 \nL 80.087854 74.936991 \nL 85.126987 23.814734 \nL 90.16612 74.936991 \nL 95.205253 19.554545 \nL 100.244386 91.977743 \nL 105.283519 181.441693 \nL 110.322652 185.701881 \nL 115.361785 130.319436 \nL 120.400918 185.701881 \nL 125.440051 202.742633 \nL 130.479184 104.758307 \nL 135.518317 70.676803 \nL 140.55745 151.620376 \nL 145.596583 160.140752 \nL 150.635716 109.018495 \nL 155.674849 134.579624 \nL 160.713983 134.579624 \nL 165.753116 138.839812 \nL 175.831382 164.40094 \nL 185.909648 181.441693 \nL 190.948781 160.140752 \nL 195.987914 160.140752 \nL 201.027047 228.303762 \nL 206.06618 228.303762 \nL 211.105313 143.1 \nL 216.144446 147.360188 \nL 221.183579 104.758307 \nL 226.222712 45.115674 \nL 231.261845 113.278683 \nL 236.300978 91.977743 \nL 241.340111 96.237931 \nL 246.379244 91.977743 \nL 256.457511 117.538871 \nL 261.496644 155.880564 \nL 266.535777 160.140752 \nL 271.57491 168.661129 \nL 276.614043 121.79906 \nL 281.653176 126.059248 \nL 286.692309 121.79906 \nL 291.731442 155.880564 \nL 296.770575 121.79906 \nL 301.809708 134.579624 \nL 311.887974 83.457367 \nL 316.927107 104.758307 \nL 321.96624 143.1 \nL 327.005373 134.579624 \nL 332.044506 113.278683 \nL 337.083639 143.1 \nL 342.122772 147.360188 \nL 347.161905 177.181505 \nL 352.201039 155.880564 \nL 357.240172 160.140752 \nL 362.279305 155.880564 \nL 367.318438 202.742633 \nL 377.396704 126.059248 \nL 382.435837 130.319436 \nL 387.47497 198.482445 \nL 392.514103 189.962069 \nL 397.553236 211.263009 \nL 402.592369 134.579624 \nL 407.631502 143.1 \nL 412.670635 91.977743 \nL 417.709768 70.676803 \nL 422.748901 109.018495 \nL 427.788034 134.579624 \nL 432.827167 151.620376 \nL 437.8663 172.921317 \nL 442.905433 207.002821 \nL 447.944567 219.783386 \nL 452.9837 219.783386 \nL 458.022833 164.40094 \nL 463.061966 143.1 \nL 468.101099 155.880564 \nL 473.140232 126.059248 \nL 478.179365 87.717555 \nL 483.218498 91.977743 \nL 488.257631 138.839812 \nL 493.296764 147.360188 \nL 498.335897 134.579624 \nL 503.37503 109.018495 \nL 508.414163 130.319436 \nL 513.453296 126.059248 \nL 518.492429 126.059248 \nL 523.531562 151.620376 \nL 538.648961 151.620376 \nL 543.688095 104.758307 \nL 548.727228 121.79906 \nL 553.766361 79.197179 \nL 558.805494 113.278683 \nL 563.844627 164.40094 \nL 568.88376 172.921317 \nL 573.922893 147.360188 \nL 578.962026 164.40094 \nL 584.001159 185.701881 \nL 589.040292 177.181505 \nL 594.079425 113.278683 \nL 599.118558 117.538871 \nL 604.157691 130.319436 \nL 609.196824 134.579624 \nL 614.235957 109.018495 \nL 619.27509 87.717555 \nL 624.314223 96.237931 \nL 629.353356 160.140752 \nL 634.392489 160.140752 \nL 639.431623 215.523197 \nL 644.470756 219.783386 \nL 649.509889 198.482445 \nL 654.549022 224.043574 \nL 659.588155 134.579624 \nL 664.627288 117.538871 \nL 669.666421 160.140752 \nL 674.705554 130.319436 \nL 679.744687 121.79906 \nL 684.78382 130.319436 \nL 689.822953 130.319436 \nL 694.862086 109.018495 \nL 699.901219 96.237931 \nL 704.940352 130.319436 \nL 709.979485 117.538871 \nL 715.018618 168.661129 \nL 720.057751 117.538871 \nL 725.096884 113.278683 \nL 730.136017 168.661129 \nL 735.175151 211.263009 \nL 740.214284 266.645455 \nL 745.253417 245.344514 \nL 750.29255 215.523197 \nL 755.331683 194.222257 \nL 760.370816 177.181505 \nL 765.409949 181.441693 \nL 770.449082 207.002821 \nL 775.488215 155.880564 \nL 780.527348 126.059248 \nL 785.566481 79.197179 \nL 790.605614 100.498119 \nL 795.644747 79.197179 \nL 800.68388 79.197179 \nL 805.723013 155.880564 \nL 810.762146 194.222257 \nL 815.801279 207.002821 \nL 820.840412 198.482445 \nL 825.879545 198.482445 \nL 825.879545 198.482445 \n\" style=\"fill:none;stroke:#1f77b4;stroke-linecap:square;stroke-width:1.5;\"/>\n   </g>\n   <g id=\"line2d_16\">\n    <path clip-path=\"url(#peb4e586aa4)\" d=\"M 64.970455 117.836287 \nL 70.009588 147.939645 \nL 75.048721 152.663045 \nL 80.087854 154.043628 \nL 85.126987 154.687928 \nL 95.205253 155.361822 \nL 110.322652 155.963739 \nL 180.870515 158.389818 \nL 195.987914 159.20006 \nL 216.144446 160.53865 \nL 246.379244 162.655467 \nL 261.496644 163.444046 \nL 276.614043 163.995762 \nL 296.770575 164.465816 \nL 327.005373 164.88809 \nL 367.318438 165.439075 \nL 382.435837 165.904058 \nL 392.514103 166.488472 \nL 402.592369 167.432934 \nL 412.670635 168.715554 \nL 422.748901 170.043548 \nL 432.827167 171.089337 \nL 442.905433 171.790208 \nL 478.179365 173.658396 \nL 488.257631 174.663995 \nL 498.335897 176.089773 \nL 503.37503 176.92293 \nL 513.453296 178.939508 \nL 518.492429 178.566069 \nL 523.531562 173.920351 \nL 528.570695 171.607413 \nL 533.609828 165.17634 \nL 538.648961 198.590102 \nL 543.688095 179.079546 \nL 548.727228 152.85026 \nL 553.766361 145.92505 \nL 558.805494 150.989435 \nL 563.844627 138.594466 \nL 568.88376 139.566425 \nL 573.922893 161.625262 \nL 578.962026 178.038844 \nL 584.001159 200.048618 \nL 589.040292 207.04241 \nL 594.079425 210.223274 \nL 599.118558 211.159472 \nL 604.157691 211.39874 \nL 609.196824 207.130069 \nL 614.235957 197.581366 \nL 619.27509 183.889939 \nL 624.314223 169.044091 \nL 629.353356 160.63203 \nL 634.392489 159.123533 \nL 639.431623 158.514742 \nL 644.470756 160.70781 \nL 649.509889 163.735514 \nL 654.549022 164.183985 \nL 659.588155 165.574904 \nL 664.627288 166.588467 \nL 669.666421 173.325341 \nL 674.705554 186.873358 \nL 679.744687 204.765095 \nL 684.78382 184.533979 \nL 689.822953 158.43958 \nL 694.862086 153.101018 \nL 699.901219 154.107414 \nL 704.940352 167.983448 \nL 709.979485 191.985538 \nL 715.018618 189.910674 \nL 720.057751 171.618529 \nL 725.096884 155.364845 \nL 730.136017 150.127155 \nL 735.175151 168.313968 \nL 740.214284 185.364 \nL 745.253417 188.936797 \nL 750.29255 188.187131 \nL 755.331683 185.942019 \nL 760.370816 182.310505 \nL 765.409949 176.968466 \nL 770.449082 170.936087 \nL 775.488215 163.377481 \nL 780.527348 153.461359 \nL 785.566481 147.944472 \nL 790.605614 146.472898 \nL 795.644747 145.858679 \nL 800.68388 145.41952 \nL 805.723013 145.192001 \nL 810.762146 145.22101 \nL 815.801279 146.10045 \nL 820.840412 147.605876 \nL 825.879545 148.095528 \nL 825.879545 148.095528 \n\" style=\"fill:none;stroke:#ff7f0e;stroke-linecap:square;stroke-width:1.5;\"/>\n   </g>\n   <g id=\"patch_4\">\n    <path d=\"M 26.925 279 \nL 26.925 7.2 \n\" style=\"fill:none;stroke:#000000;stroke-linecap:square;stroke-linejoin:miter;stroke-width:0.8;\"/>\n   </g>\n   <g id=\"patch_5\">\n    <path d=\"M 863.925 279 \nL 863.925 7.2 \n\" style=\"fill:none;stroke:#000000;stroke-linecap:square;stroke-linejoin:miter;stroke-width:0.8;\"/>\n   </g>\n   <g id=\"patch_6\">\n    <path d=\"M 26.925 279 \nL 863.925 279 \n\" style=\"fill:none;stroke:#000000;stroke-linecap:square;stroke-linejoin:miter;stroke-width:0.8;\"/>\n   </g>\n   <g id=\"patch_7\">\n    <path d=\"M 26.925 7.2 \nL 863.925 7.2 \n\" style=\"fill:none;stroke:#000000;stroke-linecap:square;stroke-linejoin:miter;stroke-width:0.8;\"/>\n   </g>\n   <g id=\"legend_1\">\n    <g id=\"patch_8\">\n     <path d=\"M 802.189063 44.55625 \nL 856.925 44.55625 \nQ 858.925 44.55625 858.925 42.55625 \nL 858.925 14.2 \nQ 858.925 12.2 856.925 12.2 \nL 802.189063 12.2 \nQ 800.189063 12.2 800.189063 14.2 \nL 800.189063 42.55625 \nQ 800.189063 44.55625 802.189063 44.55625 \nz\n\" style=\"fill:#ffffff;opacity:0.8;stroke:#cccccc;stroke-linejoin:miter;\"/>\n    </g>\n    <g id=\"line2d_17\">\n     <path d=\"M 804.189063 20.298437 \nL 824.189063 20.298437 \n\" style=\"fill:none;stroke:#1f77b4;stroke-linecap:square;stroke-width:1.5;\"/>\n    </g>\n    <g id=\"line2d_18\"/>\n    <g id=\"text_15\">\n     <!-- true -->\n     <g transform=\"translate(832.189063 23.798437)scale(0.1 -0.1)\">\n      <defs>\n       <path d=\"M 18.3125 70.21875 \nL 18.3125 54.6875 \nL 36.8125 54.6875 \nL 36.8125 47.703125 \nL 18.3125 47.703125 \nL 18.3125 18.015625 \nQ 18.3125 11.328125 20.140625 9.421875 \nQ 21.96875 7.515625 27.59375 7.515625 \nL 36.8125 7.515625 \nL 36.8125 0 \nL 27.59375 0 \nQ 17.1875 0 13.234375 3.875 \nQ 9.28125 7.765625 9.28125 18.015625 \nL 9.28125 47.703125 \nL 2.6875 47.703125 \nL 2.6875 54.6875 \nL 9.28125 54.6875 \nL 9.28125 70.21875 \nz\n\" id=\"DejaVuSans-116\"/>\n       <path d=\"M 41.109375 46.296875 \nQ 39.59375 47.171875 37.8125 47.578125 \nQ 36.03125 48 33.890625 48 \nQ 26.265625 48 22.1875 43.046875 \nQ 18.109375 38.09375 18.109375 28.8125 \nL 18.109375 0 \nL 9.078125 0 \nL 9.078125 54.6875 \nL 18.109375 54.6875 \nL 18.109375 46.1875 \nQ 20.953125 51.171875 25.484375 53.578125 \nQ 30.03125 56 36.53125 56 \nQ 37.453125 56 38.578125 55.875 \nQ 39.703125 55.765625 41.0625 55.515625 \nz\n\" id=\"DejaVuSans-114\"/>\n       <path d=\"M 8.5 21.578125 \nL 8.5 54.6875 \nL 17.484375 54.6875 \nL 17.484375 21.921875 \nQ 17.484375 14.15625 20.5 10.265625 \nQ 23.53125 6.390625 29.59375 6.390625 \nQ 36.859375 6.390625 41.078125 11.03125 \nQ 45.3125 15.671875 45.3125 23.6875 \nL 45.3125 54.6875 \nL 54.296875 54.6875 \nL 54.296875 0 \nL 45.3125 0 \nL 45.3125 8.40625 \nQ 42.046875 3.421875 37.71875 1 \nQ 33.40625 -1.421875 27.6875 -1.421875 \nQ 18.265625 -1.421875 13.375 4.4375 \nQ 8.5 10.296875 8.5 21.578125 \nz\nM 31.109375 56 \nz\n\" id=\"DejaVuSans-117\"/>\n       <path d=\"M 56.203125 29.59375 \nL 56.203125 25.203125 \nL 14.890625 25.203125 \nQ 15.484375 15.921875 20.484375 11.0625 \nQ 25.484375 6.203125 34.421875 6.203125 \nQ 39.59375 6.203125 44.453125 7.46875 \nQ 49.3125 8.734375 54.109375 11.28125 \nL 54.109375 2.78125 \nQ 49.265625 0.734375 44.1875 -0.34375 \nQ 39.109375 -1.421875 33.890625 -1.421875 \nQ 20.796875 -1.421875 13.15625 6.1875 \nQ 5.515625 13.8125 5.515625 26.8125 \nQ 5.515625 40.234375 12.765625 48.109375 \nQ 20.015625 56 32.328125 56 \nQ 43.359375 56 49.78125 48.890625 \nQ 56.203125 41.796875 56.203125 29.59375 \nz\nM 47.21875 32.234375 \nQ 47.125 39.59375 43.09375 43.984375 \nQ 39.0625 48.390625 32.421875 48.390625 \nQ 24.90625 48.390625 20.390625 44.140625 \nQ 15.875 39.890625 15.1875 32.171875 \nz\n\" id=\"DejaVuSans-101\"/>\n      </defs>\n      <use xlink:href=\"#DejaVuSans-116\"/>\n      <use x=\"39.208984\" xlink:href=\"#DejaVuSans-114\"/>\n      <use x=\"80.322266\" xlink:href=\"#DejaVuSans-117\"/>\n      <use x=\"143.701172\" xlink:href=\"#DejaVuSans-101\"/>\n     </g>\n    </g>\n    <g id=\"line2d_19\">\n     <path d=\"M 804.189063 34.976562 \nL 824.189063 34.976562 \n\" style=\"fill:none;stroke:#ff7f0e;stroke-linecap:square;stroke-width:1.5;\"/>\n    </g>\n    <g id=\"line2d_20\"/>\n    <g id=\"text_16\">\n     <!-- pred -->\n     <g transform=\"translate(832.189063 38.476562)scale(0.1 -0.1)\">\n      <defs>\n       <path d=\"M 18.109375 8.203125 \nL 18.109375 -20.796875 \nL 9.078125 -20.796875 \nL 9.078125 54.6875 \nL 18.109375 54.6875 \nL 18.109375 46.390625 \nQ 20.953125 51.265625 25.265625 53.625 \nQ 29.59375 56 35.59375 56 \nQ 45.5625 56 51.78125 48.09375 \nQ 58.015625 40.1875 58.015625 27.296875 \nQ 58.015625 14.40625 51.78125 6.484375 \nQ 45.5625 -1.421875 35.59375 -1.421875 \nQ 29.59375 -1.421875 25.265625 0.953125 \nQ 20.953125 3.328125 18.109375 8.203125 \nz\nM 48.6875 27.296875 \nQ 48.6875 37.203125 44.609375 42.84375 \nQ 40.53125 48.484375 33.40625 48.484375 \nQ 26.265625 48.484375 22.1875 42.84375 \nQ 18.109375 37.203125 18.109375 27.296875 \nQ 18.109375 17.390625 22.1875 11.75 \nQ 26.265625 6.109375 33.40625 6.109375 \nQ 40.53125 6.109375 44.609375 11.75 \nQ 48.6875 17.390625 48.6875 27.296875 \nz\n\" id=\"DejaVuSans-112\"/>\n       <path d=\"M 45.40625 46.390625 \nL 45.40625 75.984375 \nL 54.390625 75.984375 \nL 54.390625 0 \nL 45.40625 0 \nL 45.40625 8.203125 \nQ 42.578125 3.328125 38.25 0.953125 \nQ 33.9375 -1.421875 27.875 -1.421875 \nQ 17.96875 -1.421875 11.734375 6.484375 \nQ 5.515625 14.40625 5.515625 27.296875 \nQ 5.515625 40.1875 11.734375 48.09375 \nQ 17.96875 56 27.875 56 \nQ 33.9375 56 38.25 53.625 \nQ 42.578125 51.265625 45.40625 46.390625 \nz\nM 14.796875 27.296875 \nQ 14.796875 17.390625 18.875 11.75 \nQ 22.953125 6.109375 30.078125 6.109375 \nQ 37.203125 6.109375 41.296875 11.75 \nQ 45.40625 17.390625 45.40625 27.296875 \nQ 45.40625 37.203125 41.296875 42.84375 \nQ 37.203125 48.484375 30.078125 48.484375 \nQ 22.953125 48.484375 18.875 42.84375 \nQ 14.796875 37.203125 14.796875 27.296875 \nz\n\" id=\"DejaVuSans-100\"/>\n      </defs>\n      <use xlink:href=\"#DejaVuSans-112\"/>\n      <use x=\"63.476562\" xlink:href=\"#DejaVuSans-114\"/>\n      <use x=\"102.339844\" xlink:href=\"#DejaVuSans-101\"/>\n      <use x=\"163.863281\" xlink:href=\"#DejaVuSans-100\"/>\n     </g>\n    </g>\n   </g>\n  </g>\n </g>\n <defs>\n  <clipPath id=\"peb4e586aa4\">\n   <rect height=\"271.8\" width=\"837\" x=\"26.925\" y=\"7.2\"/>\n  </clipPath>\n </defs>\n</svg>\n",
      "image/png": "[encoded data removed]"
     },
     "metadata": {
      "needs_background": "light"
     }
    }
   ],
   "source": [
    "plot_comparison(start_idx=0, length=950, train=False)"
   ]
  },
  {
   "cell_type": "code",
   "execution_count": 38,
   "metadata": {},
   "outputs": [
    {
     "output_type": "execute_result",
     "data": {
      "text/plain": [
       "            AQI  Day  Year\n",
       "Date                      \n",
       "2021-02-24   39   55     4\n",
       "2021-02-25   30   56     4\n",
       "2021-02-26   27   57     4\n",
       "2021-02-27   29   58     4\n",
       "2021-02-28   29   59     4"
      ],
      "text/html": "<div>\n<style scoped>\n    .dataframe tbody tr th:only-of-type {\n        vertical-align: middle;\n    }\n\n    .dataframe tbody tr th {\n        vertical-align: top;\n    }\n\n    .dataframe thead th {\n        text-align: right;\n    }\n</style>\n<table border=\"1\" class=\"dataframe\">\n  <thead>\n    <tr style=\"text-align: right;\">\n      <th></th>\n      <th>AQI</th>\n      <th>Day</th>\n      <th>Year</th>\n    </tr>\n    <tr>\n      <th>Date</th>\n      <th></th>\n      <th></th>\n      <th></th>\n    </tr>\n  </thead>\n  <tbody>\n    <tr>\n      <th>2021-02-24</th>\n      <td>39</td>\n      <td>55</td>\n      <td>4</td>\n    </tr>\n    <tr>\n      <th>2021-02-25</th>\n      <td>30</td>\n      <td>56</td>\n      <td>4</td>\n    </tr>\n    <tr>\n      <th>2021-02-26</th>\n      <td>27</td>\n      <td>57</td>\n      <td>4</td>\n    </tr>\n    <tr>\n      <th>2021-02-27</th>\n      <td>29</td>\n      <td>58</td>\n      <td>4</td>\n    </tr>\n    <tr>\n      <th>2021-02-28</th>\n      <td>29</td>\n      <td>59</td>\n      <td>4</td>\n    </tr>\n  </tbody>\n</table>\n</div>"
     },
     "metadata": {},
     "execution_count": 38
    }
   ],
   "source": [
    "df.tail()"
   ]
  },
  {
   "cell_type": "code",
   "execution_count": 78,
   "metadata": {},
   "outputs": [],
   "source": [
    "predict_days = [[60, 4], # 60th day of the 4th year (2021)\n",
    "                [61, 4], # March 2 2021\n",
    "                [62, 4], # Marh 3 2021\n",
    "                [63, 4],\n",
    "                [64, 4],\n",
    "                [65, 4],\n",
    "                [66, 4]] \n",
    "\n",
    "# Expand dimensions to fit in input shape (accomodate for first dim - batch size)\n",
    "predict_days = np.expand_dims(predict_days, axis=0)\n"
   ]
  },
  {
   "cell_type": "code",
   "execution_count": 79,
   "metadata": {},
   "outputs": [
    {
     "output_type": "stream",
     "name": "stdout",
     "text": [
      "WARNING:tensorflow:6 out of the last 16 calls to <function Model.make_predict_function.<locals>.predict_function at 0x7f1c042caee0> triggered tf.function retracing. Tracing is expensive and the excessive number of tracings could be due to (1) creating @tf.function repeatedly in a loop, (2) passing tensors with different shapes, (3) passing Python objects instead of tensors. For (1), please define your @tf.function outside of the loop. For (2), @tf.function has experimental_relax_shapes=True option that relaxes argument shapes that can avoid unnecessary retracing. For (3), please refer to https://www.tensorflow.org/tutorials/customization/performance#python_or_tensor_args and https://www.tensorflow.org/api_docs/python/tf/function for  more details.\n",
      "[[56.885517]\n",
      " [44.51422 ]\n",
      " [42.780632]\n",
      " [50.990494]\n",
      " [49.671265]\n",
      " [47.225437]\n",
      " [45.512135]]\n"
     ]
    }
   ],
   "source": [
    "forecast = model.predict(predict_days)\n",
    "\n",
    "# np.squeeze to delete first dim\n",
    "forecast_AQI = y_scaler.inverse_transform(np.squeeze(forecast, axis=0))\n",
    "\n",
    "print(forecast_AQI)\n"
   ]
  },
  {
   "cell_type": "code",
   "execution_count": null,
   "metadata": {},
   "outputs": [],
   "source": []
  }
 ]
}