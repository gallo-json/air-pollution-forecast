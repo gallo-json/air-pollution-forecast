{
 "metadata": {
  "language_info": {
   "codemirror_mode": {
    "name": "ipython",
    "version": 3
   },
   "file_extension": ".py",
   "mimetype": "text/x-python",
   "name": "python",
   "nbconvert_exporter": "python",
   "pygments_lexer": "ipython3",
   "version": "3.8.3"
  },
  "orig_nbformat": 2,
  "kernelspec": {
   "name": "python383jvsc74a57bd0dca0ade3e726a953b501b15e8e990130d2b7799f14cfd9f4271676035ebe5511",
   "display_name": "Python 3.8.3 64-bit ('base': conda)"
  }
 },
 "nbformat": 4,
 "nbformat_minor": 2,
 "cells": [
  {
   "cell_type": "code",
   "execution_count": 1,
   "metadata": {},
   "outputs": [],
   "source": [
    "import matplotlib.pyplot as plt\n",
    "import matplotlib.dates\n",
    "import tensorflow as tf\n",
    "import pandas as pd\n",
    "import numpy as np\n",
    "\n",
    "from sklearn.preprocessing import MinMaxScaler\n",
    "from tensorflow.keras.models import Sequential\n",
    "from tensorflow.keras.layers import Input, Dense, GRU, Embedding\n",
    "from tensorflow.keras.optimizers import RMSprop\n",
    "from tensorflow.keras.callbacks import EarlyStopping, ModelCheckpoint, TensorBoard, ReduceLROnPlateau\n",
    "from tensorflow.keras.backend import square, mean"
   ]
  },
  {
   "cell_type": "code",
   "execution_count": 2,
   "metadata": {},
   "outputs": [
    {
     "output_type": "execute_result",
     "data": {
      "text/plain": [
       "           Date  AQI  air_temp  dew_point_temp  sea_level_pressure  \\\n",
       "1515 2021-02-24   39      20.0            16.0              1018.0   \n",
       "1516 2021-02-25   30      20.0            17.0              1019.0   \n",
       "1517 2021-02-26   27      21.0            18.0              1014.0   \n",
       "1518 2021-02-27   29      22.0            19.0              1013.0   \n",
       "1519 2021-02-28   29      23.0            19.0              1013.0   \n",
       "\n",
       "      visibility  wind_speed  \n",
       "1515     10000.0      4.3750  \n",
       "1516      9000.0      5.0000  \n",
       "1517     10000.0      5.3125  \n",
       "1518     10000.0      5.9375  \n",
       "1519     10000.0      5.0000  "
      ],
      "text/html": "<div>\n<style scoped>\n    .dataframe tbody tr th:only-of-type {\n        vertical-align: middle;\n    }\n\n    .dataframe tbody tr th {\n        vertical-align: top;\n    }\n\n    .dataframe thead th {\n        text-align: right;\n    }\n</style>\n<table border=\"1\" class=\"dataframe\">\n  <thead>\n    <tr style=\"text-align: right;\">\n      <th></th>\n      <th>Date</th>\n      <th>AQI</th>\n      <th>air_temp</th>\n      <th>dew_point_temp</th>\n      <th>sea_level_pressure</th>\n      <th>visibility</th>\n      <th>wind_speed</th>\n    </tr>\n  </thead>\n  <tbody>\n    <tr>\n      <th>1515</th>\n      <td>2021-02-24</td>\n      <td>39</td>\n      <td>20.0</td>\n      <td>16.0</td>\n      <td>1018.0</td>\n      <td>10000.0</td>\n      <td>4.3750</td>\n    </tr>\n    <tr>\n      <th>1516</th>\n      <td>2021-02-25</td>\n      <td>30</td>\n      <td>20.0</td>\n      <td>17.0</td>\n      <td>1019.0</td>\n      <td>9000.0</td>\n      <td>5.0000</td>\n    </tr>\n    <tr>\n      <th>1517</th>\n      <td>2021-02-26</td>\n      <td>27</td>\n      <td>21.0</td>\n      <td>18.0</td>\n      <td>1014.0</td>\n      <td>10000.0</td>\n      <td>5.3125</td>\n    </tr>\n    <tr>\n      <th>1518</th>\n      <td>2021-02-27</td>\n      <td>29</td>\n      <td>22.0</td>\n      <td>19.0</td>\n      <td>1013.0</td>\n      <td>10000.0</td>\n      <td>5.9375</td>\n    </tr>\n    <tr>\n      <th>1519</th>\n      <td>2021-02-28</td>\n      <td>29</td>\n      <td>23.0</td>\n      <td>19.0</td>\n      <td>1013.0</td>\n      <td>10000.0</td>\n      <td>5.0000</td>\n    </tr>\n  </tbody>\n</table>\n</div>"
     },
     "metadata": {},
     "execution_count": 2
    }
   ],
   "source": [
    "df = pd.read_csv(\"/home/jose/Programming/aiml/Data/houston-AQI-weather/filled-in-data/Oyster Creek C1607.csv\")\n",
    "df['Date'] = pd.to_datetime(df['Date'])\n",
    "del df['Unnamed: 0']\n",
    "\n",
    "df.tail()"
   ]
  },
  {
   "cell_type": "code",
   "execution_count": 3,
   "metadata": {},
   "outputs": [],
   "source": [
    "df['Day'] = df.Date.dt.dayofyear\n",
    "df['Year'] = df.Date.dt.year - 2017\n",
    "df.index = df.Date\n"
   ]
  },
  {
   "cell_type": "code",
   "execution_count": 4,
   "metadata": {},
   "outputs": [
    {
     "output_type": "execute_result",
     "data": {
      "text/plain": [
       "            AQI  Day  Year\n",
       "Date                      \n",
       "2021-02-24   39   55     4\n",
       "2021-02-25   30   56     4\n",
       "2021-02-26   27   57     4\n",
       "2021-02-27   29   58     4\n",
       "2021-02-28   29   59     4"
      ],
      "text/html": "<div>\n<style scoped>\n    .dataframe tbody tr th:only-of-type {\n        vertical-align: middle;\n    }\n\n    .dataframe tbody tr th {\n        vertical-align: top;\n    }\n\n    .dataframe thead th {\n        text-align: right;\n    }\n</style>\n<table border=\"1\" class=\"dataframe\">\n  <thead>\n    <tr style=\"text-align: right;\">\n      <th></th>\n      <th>AQI</th>\n      <th>Day</th>\n      <th>Year</th>\n    </tr>\n    <tr>\n      <th>Date</th>\n      <th></th>\n      <th></th>\n      <th></th>\n    </tr>\n  </thead>\n  <tbody>\n    <tr>\n      <th>2021-02-24</th>\n      <td>39</td>\n      <td>55</td>\n      <td>4</td>\n    </tr>\n    <tr>\n      <th>2021-02-25</th>\n      <td>30</td>\n      <td>56</td>\n      <td>4</td>\n    </tr>\n    <tr>\n      <th>2021-02-26</th>\n      <td>27</td>\n      <td>57</td>\n      <td>4</td>\n    </tr>\n    <tr>\n      <th>2021-02-27</th>\n      <td>29</td>\n      <td>58</td>\n      <td>4</td>\n    </tr>\n    <tr>\n      <th>2021-02-28</th>\n      <td>29</td>\n      <td>59</td>\n      <td>4</td>\n    </tr>\n  </tbody>\n</table>\n</div>"
     },
     "metadata": {},
     "execution_count": 4
    }
   ],
   "source": [
    "### DELETE all the other features, for now\n",
    "del df['Date']\n",
    "del df['air_temp']\n",
    "del df['dew_point_temp']\n",
    "del df['sea_level_pressure']\n",
    "del df['visibility']\n",
    "del df['wind_speed']\n",
    "\n",
    "df.tail()"
   ]
  },
  {
   "cell_type": "code",
   "execution_count": 21,
   "metadata": {},
   "outputs": [],
   "source": [
    "num_x_signals = 2\n",
    "num_y_signals = 1"
   ]
  },
  {
   "cell_type": "code",
   "execution_count": 10,
   "metadata": {},
   "outputs": [
    {
     "output_type": "stream",
     "name": "stdout",
     "text": [
      "(1368, 2)\n(1368, 1)\n"
     ]
    }
   ],
   "source": [
    "num_train = int(0.9 * len(df))\n",
    "\n",
    "x = df[['Day', 'Year']].values\n",
    "y = df.AQI.values\n",
    "\n",
    "x_train = x[:num_train]\n",
    "y_train = np.expand_dims(y[:num_train], axis=1) # Give the extra 1 at the end\n",
    "x_test = x[num_train:]\n",
    "y_test = np.expand_dims(y[num_train:], axis=1)\n",
    "\n",
    "print(x_train.shape)\n",
    "print(y_train.shape)"
   ]
  },
  {
   "cell_type": "code",
   "execution_count": 13,
   "metadata": {},
   "outputs": [],
   "source": [
    "x_scaler = MinMaxScaler()\n",
    "y_scaler = MinMaxScaler()\n",
    "\n",
    "x_train_scaled = x_scaler.fit_transform(x_train)\n",
    "x_test_scaled = x_scaler.transform(x_test)\n",
    "\n",
    "y_train_scaled = y_scaler.fit_transform(y_train)\n",
    "y_test_scaled = y_scaler.transform(y_test)"
   ]
  },
  {
   "cell_type": "code",
   "execution_count": 22,
   "metadata": {},
   "outputs": [],
   "source": [
    "def batch_generator(batch_size, sequence_length):\n",
    "    \"\"\"\n",
    "    Generator function for creating random batches of training-data.\n",
    "    \"\"\"\n",
    "\n",
    "    # Infinite loop.\n",
    "    while True:\n",
    "        # Allocate a new array for the batch of input-signals.\n",
    "        x_shape = (batch_size, sequence_length, num_x_signals)\n",
    "        x_batch = np.zeros(shape=x_shape, dtype=np.float16)\n",
    "\n",
    "        # Allocate a new array for the batch of output-signals.\n",
    "        y_shape = (batch_size, sequence_length, num_y_signals)\n",
    "        y_batch = np.zeros(shape=y_shape, dtype=np.float16)\n",
    "\n",
    "        # Fill the batch with random sequences of data.\n",
    "        for i in range(batch_size):\n",
    "            # Get a random start-index.\n",
    "            # This points somewhere into the training-data.\n",
    "            idx = np.random.randint(num_train - sequence_length)\n",
    "            \n",
    "            # Copy the sequences of data starting at this index.\n",
    "            x_batch[i] = x_train_scaled[idx:idx+sequence_length]\n",
    "            y_batch[i] = y_train_scaled[idx:idx+sequence_length]\n",
    "        \n",
    "        yield (x_batch, y_batch)"
   ]
  },
  {
   "cell_type": "code",
   "execution_count": 27,
   "metadata": {},
   "outputs": [],
   "source": [
    "generator = batch_generator(batch_size=128, sequence_length=7 * 8)\n",
    "\n",
    "\n",
    "x_batch, y_batch = next(generator)"
   ]
  },
  {
   "cell_type": "code",
   "execution_count": 16,
   "metadata": {},
   "outputs": [],
   "source": [
    "validation_data = (np.expand_dims(x_test_scaled, axis=0),\n",
    "                   np.expand_dims(y_test_scaled, axis=0))"
   ]
  },
  {
   "cell_type": "code",
   "execution_count": 17,
   "metadata": {},
   "outputs": [],
   "source": [
    "model = Sequential()\n",
    "model.add(GRU(units=512,\n",
    "              return_sequences=True,\n",
    "              input_shape=(None, num_x_signals,)))\n",
    "\n",
    "model.add(Dense(num_y_signals, activation='sigmoid'))"
   ]
  },
  {
   "cell_type": "code",
   "execution_count": 23,
   "metadata": {},
   "outputs": [],
   "source": [
    "warmup_steps = 15\n",
    "def loss_mse_warmup(y_true, y_pred):\n",
    "    \"\"\"\n",
    "    Calculate the Mean Squared Error between y_true and y_pred,\n",
    "    but ignore the beginning \"warmup\" part of the sequences.\n",
    "    \n",
    "    y_true is the desired output.\n",
    "    y_pred is the model's output.\n",
    "    \"\"\"\n",
    "\n",
    "    # The shape of both input tensors are:\n",
    "    # [batch_size, sequence_length, num_y_signals].\n",
    "\n",
    "    # Ignore the \"warmup\" parts of the sequences\n",
    "    # by taking slices of the tensors.\n",
    "    y_true_slice = y_true[:, warmup_steps:, :]\n",
    "    y_pred_slice = y_pred[:, warmup_steps:, :]\n",
    "\n",
    "    # These sliced tensors both have this shape:\n",
    "    # [batch_size, sequence_length - warmup_steps, num_y_signals]\n",
    "\n",
    "    # Calculat the Mean Squared Error and use it as loss.\n",
    "    mse = mean(square(y_true_slice - y_pred_slice))\n",
    "    \n",
    "    return mse"
   ]
  },
  {
   "cell_type": "code",
   "execution_count": 24,
   "metadata": {},
   "outputs": [],
   "source": [
    "optimizer = RMSprop(lr=1e-3)\n",
    "model.compile(loss=loss_mse_warmup, optimizer=optimizer)"
   ]
  },
  {
   "cell_type": "code",
   "execution_count": 28,
   "metadata": {},
   "outputs": [
    {
     "output_type": "stream",
     "name": "stdout",
     "text": [
      "Epoch 1/20\n",
      "  1/100 [..............................] - ETA: 2s - loss: 0.1139WARNING:tensorflow:Callbacks method `on_train_batch_end` is slow compared to the batch time (batch time: 0.0184s vs `on_train_batch_end` time: 0.0295s). Check your callbacks.\n",
      "100/100 [==============================] - 5s 51ms/step - loss: 0.0150 - val_loss: 0.0039\n",
      "Epoch 2/20\n",
      "100/100 [==============================] - 5s 47ms/step - loss: 0.0120 - val_loss: 0.0070\n",
      "Epoch 3/20\n",
      "100/100 [==============================] - 5s 47ms/step - loss: 0.0117 - val_loss: 0.0041\n",
      "Epoch 4/20\n",
      "100/100 [==============================] - 5s 47ms/step - loss: 0.0118 - val_loss: 0.0048\n",
      "Epoch 5/20\n",
      "100/100 [==============================] - 5s 47ms/step - loss: 0.0117 - val_loss: 0.0069\n",
      "Epoch 6/20\n",
      "100/100 [==============================] - 5s 47ms/step - loss: 0.0111 - val_loss: 0.0055\n",
      "Epoch 7/20\n",
      "100/100 [==============================] - 5s 47ms/step - loss: 0.0108 - val_loss: 0.0064\n",
      "Epoch 8/20\n",
      "100/100 [==============================] - 5s 47ms/step - loss: 0.0107 - val_loss: 0.0047\n",
      "Epoch 9/20\n",
      "100/100 [==============================] - 5s 47ms/step - loss: 0.0105 - val_loss: 0.0043\n",
      "Epoch 10/20\n",
      "100/100 [==============================] - 5s 47ms/step - loss: 0.0100 - val_loss: 0.0035\n",
      "Epoch 11/20\n",
      "100/100 [==============================] - 5s 47ms/step - loss: 0.0097 - val_loss: 0.0039\n",
      "Epoch 12/20\n",
      "100/100 [==============================] - 5s 47ms/step - loss: 0.0094 - val_loss: 0.0041\n",
      "Epoch 13/20\n",
      "100/100 [==============================] - 5s 47ms/step - loss: 0.0095 - val_loss: 0.0048\n",
      "Epoch 14/20\n",
      "100/100 [==============================] - 5s 47ms/step - loss: 0.0090 - val_loss: 0.0047\n",
      "Epoch 15/20\n",
      "100/100 [==============================] - 5s 47ms/step - loss: 0.0089 - val_loss: 0.0050\n",
      "Epoch 16/20\n",
      "100/100 [==============================] - 5s 47ms/step - loss: 0.0089 - val_loss: 0.0056\n",
      "Epoch 17/20\n",
      "100/100 [==============================] - 5s 47ms/step - loss: 0.0088 - val_loss: 0.0048\n",
      "Epoch 18/20\n",
      "100/100 [==============================] - 5s 47ms/step - loss: 0.0088 - val_loss: 0.0043\n",
      "Epoch 19/20\n",
      "100/100 [==============================] - 5s 47ms/step - loss: 0.0083 - val_loss: 0.0042\n",
      "Epoch 20/20\n",
      "100/100 [==============================] - 5s 47ms/step - loss: 0.0084 - val_loss: 0.0040\n"
     ]
    },
    {
     "output_type": "execute_result",
     "data": {
      "text/plain": [
       "<tensorflow.python.keras.callbacks.History at 0x7f1cb4089610>"
      ]
     },
     "metadata": {},
     "execution_count": 28
    }
   ],
   "source": [
    "model.fit(x=generator,\n",
    "          epochs=20,\n",
    "          steps_per_epoch=100,\n",
    "          validation_data=validation_data)"
   ]
  },
  {
   "cell_type": "code",
   "execution_count": 34,
   "metadata": {},
   "outputs": [],
   "source": [
    "\n",
    "\n",
    "def plot_comparison(start_idx, length=100, train=True):\n",
    "    \"\"\"\n",
    "    Plot the predicted and true output-signals.\n",
    "    \n",
    "    :param start_idx: Start-index for the time-series.\n",
    "    :param length: Sequence-length to process and plot.\n",
    "    :param train: Boolean whether to use training- or test-set.\n",
    "    \"\"\"\n",
    "    \n",
    "    if train:\n",
    "        # Use training-data.\n",
    "        x = x_train_scaled\n",
    "        y_true = y_train\n",
    "    else:\n",
    "        # Use test-data.\n",
    "        x = x_test_scaled\n",
    "        y_true = y_test\n",
    "    \n",
    "    # End-index for the sequences.\n",
    "    end_idx = start_idx + length\n",
    "    \n",
    "    # Select the sequences from the given start-index and\n",
    "    # of the given length.\n",
    "    x = x[start_idx:end_idx]\n",
    "    y_true = y_true[start_idx:end_idx]\n",
    "    \n",
    "    # Input-signals for the model.\n",
    "    x = np.expand_dims(x, axis=0)\n",
    "\n",
    "    # Use the model to predict the output-signals.\n",
    "    y_pred = model.predict(x)\n",
    "    \n",
    "    # The output of the model is between 0 and 1.\n",
    "    # Do an inverse map to get it back to the scale\n",
    "    # of the original data-set.\n",
    "    y_pred_rescaled = y_scaler.inverse_transform(y_pred[0])\n",
    "    \n",
    "    # For each output-signal.\n",
    "    for signal in range(1):\n",
    "        # Get the output-signal predicted by the model.\n",
    "        signal_pred = y_pred_rescaled[:, signal]\n",
    "        \n",
    "        # Get the true output-signal from the data-set.\n",
    "        signal_true = y_true[:, signal]\n",
    "\n",
    "        # Make the plotting-canvas bigger.\n",
    "        plt.figure(figsize=(15,5))\n",
    "        \n",
    "        # Plot and compare the two signals.\n",
    "        plt.plot(signal_true, label='true')\n",
    "        plt.plot(signal_pred, label='pred')\n",
    "        \n",
    "        # Plot grey box for warmup-period.\n",
    "        p = plt.axvspan(0, warmup_steps, facecolor='black', alpha=0.15)\n",
    "        \n",
    "        # Plot labels etc.\n",
    "        plt.legend()\n",
    "        plt.show()\n",
    "\n"
   ]
  },
  {
   "cell_type": "code",
   "execution_count": 37,
   "metadata": {},
   "outputs": [
    {
     "output_type": "display_data",
     "data": {
      "text/plain": "<Figure size 1080x360 with 1 Axes>",
      "image/svg+xml": "<?xml version=\"1.0\" encoding=\"utf-8\" standalone=\"no\"?>\n<!DOCTYPE svg PUBLIC \"-//W3C//DTD SVG 1.1//EN\"\n  \"http://www.w3.org/Graphics/SVG/1.1/DTD/svg11.dtd\">\n<!-- Created with matplotlib (https://matplotlib.org/) -->\n<svg height=\"304.284531pt\" version=\"1.1\" viewBox=\"0 0 877.4875 304.284531\" width=\"877.4875pt\" xmlns=\"http://www.w3.org/2000/svg\" xmlns:xlink=\"http://www.w3.org/1999/xlink\">\n <metadata>\n  <rdf:RDF xmlns:cc=\"http://creativecommons.org/ns#\" xmlns:dc=\"http://purl.org/dc/elements/1.1/\" xmlns:rdf=\"http://www.w3.org/1999/02/22-rdf-syntax-ns#\">\n   <cc:Work>\n    <dc:type rdf:resource=\"http://purl.org/dc/dcmitype/StillImage\"/>\n    <dc:date>2021-04-26T19:47:42.764964</dc:date>\n    <dc:format>image/svg+xml</dc:format>\n    <dc:creator>\n     <cc:Agent>\n      <dc:title>Matplotlib v3.3.3, https://matplotlib.org/</dc:title>\n     </cc:Agent>\n    </dc:creator>\n   </cc:Work>\n  </rdf:RDF>\n </metadata>\n <defs>\n  <style type=\"text/css\">*{stroke-linecap:butt;stroke-linejoin:round;}</style>\n </defs>\n <g id=\"figure_1\">\n  <g id=\"patch_1\">\n   <path d=\"M 0 304.284531 \nL 877.4875 304.284531 \nL 877.4875 0 \nL 0 0 \nz\n\" style=\"fill:none;\"/>\n  </g>\n  <g id=\"axes_1\">\n   <g id=\"patch_2\">\n    <path d=\"M 33.2875 280.406406 \nL 870.2875 280.406406 \nL 870.2875 8.606406 \nL 33.2875 8.606406 \nz\n\" style=\"fill:#ffffff;\"/>\n   </g>\n   <g id=\"patch_3\">\n    <path clip-path=\"url(#pcbc5dc97f9)\" d=\"M 71.332955 280.406406 \nL 71.332955 8.606406 \nL 146.91995 8.606406 \nL 146.91995 280.406406 \nz\n\" style=\"opacity:0.15;\"/>\n   </g>\n   <g id=\"matplotlib.axis_1\">\n    <g id=\"xtick_1\">\n     <g id=\"line2d_1\">\n      <defs>\n       <path d=\"M 0 0 \nL 0 3.5 \n\" id=\"m42b41212a3\" style=\"stroke:#000000;stroke-width:0.8;\"/>\n      </defs>\n      <g>\n       <use style=\"stroke:#000000;stroke-width:0.8;\" x=\"71.332955\" xlink:href=\"#m42b41212a3\" y=\"280.406406\"/>\n      </g>\n     </g>\n     <g id=\"text_1\">\n      <!-- 0 -->\n      <g transform=\"translate(68.151705 295.004844)scale(0.1 -0.1)\">\n       <defs>\n        <path d=\"M 31.78125 66.40625 \nQ 24.171875 66.40625 20.328125 58.90625 \nQ 16.5 51.421875 16.5 36.375 \nQ 16.5 21.390625 20.328125 13.890625 \nQ 24.171875 6.390625 31.78125 6.390625 \nQ 39.453125 6.390625 43.28125 13.890625 \nQ 47.125 21.390625 47.125 36.375 \nQ 47.125 51.421875 43.28125 58.90625 \nQ 39.453125 66.40625 31.78125 66.40625 \nz\nM 31.78125 74.21875 \nQ 44.046875 74.21875 50.515625 64.515625 \nQ 56.984375 54.828125 56.984375 36.375 \nQ 56.984375 17.96875 50.515625 8.265625 \nQ 44.046875 -1.421875 31.78125 -1.421875 \nQ 19.53125 -1.421875 13.0625 8.265625 \nQ 6.59375 17.96875 6.59375 36.375 \nQ 6.59375 54.828125 13.0625 64.515625 \nQ 19.53125 74.21875 31.78125 74.21875 \nz\n\" id=\"DejaVuSans-48\"/>\n       </defs>\n       <use xlink:href=\"#DejaVuSans-48\"/>\n      </g>\n     </g>\n    </g>\n    <g id=\"xtick_2\">\n     <g id=\"line2d_2\">\n      <g>\n       <use style=\"stroke:#000000;stroke-width:0.8;\" x=\"172.115616\" xlink:href=\"#m42b41212a3\" y=\"280.406406\"/>\n      </g>\n     </g>\n     <g id=\"text_2\">\n      <!-- 20 -->\n      <g transform=\"translate(165.753116 295.004844)scale(0.1 -0.1)\">\n       <defs>\n        <path d=\"M 19.1875 8.296875 \nL 53.609375 8.296875 \nL 53.609375 0 \nL 7.328125 0 \nL 7.328125 8.296875 \nQ 12.9375 14.109375 22.625 23.890625 \nQ 32.328125 33.6875 34.8125 36.53125 \nQ 39.546875 41.84375 41.421875 45.53125 \nQ 43.3125 49.21875 43.3125 52.78125 \nQ 43.3125 58.59375 39.234375 62.25 \nQ 35.15625 65.921875 28.609375 65.921875 \nQ 23.96875 65.921875 18.8125 64.3125 \nQ 13.671875 62.703125 7.8125 59.421875 \nL 7.8125 69.390625 \nQ 13.765625 71.78125 18.9375 73 \nQ 24.125 74.21875 28.421875 74.21875 \nQ 39.75 74.21875 46.484375 68.546875 \nQ 53.21875 62.890625 53.21875 53.421875 \nQ 53.21875 48.921875 51.53125 44.890625 \nQ 49.859375 40.875 45.40625 35.40625 \nQ 44.1875 33.984375 37.640625 27.21875 \nQ 31.109375 20.453125 19.1875 8.296875 \nz\n\" id=\"DejaVuSans-50\"/>\n       </defs>\n       <use xlink:href=\"#DejaVuSans-50\"/>\n       <use x=\"63.623047\" xlink:href=\"#DejaVuSans-48\"/>\n      </g>\n     </g>\n    </g>\n    <g id=\"xtick_3\">\n     <g id=\"line2d_3\">\n      <g>\n       <use style=\"stroke:#000000;stroke-width:0.8;\" x=\"272.898277\" xlink:href=\"#m42b41212a3\" y=\"280.406406\"/>\n      </g>\n     </g>\n     <g id=\"text_3\">\n      <!-- 40 -->\n      <g transform=\"translate(266.535777 295.004844)scale(0.1 -0.1)\">\n       <defs>\n        <path d=\"M 37.796875 64.3125 \nL 12.890625 25.390625 \nL 37.796875 25.390625 \nz\nM 35.203125 72.90625 \nL 47.609375 72.90625 \nL 47.609375 25.390625 \nL 58.015625 25.390625 \nL 58.015625 17.1875 \nL 47.609375 17.1875 \nL 47.609375 0 \nL 37.796875 0 \nL 37.796875 17.1875 \nL 4.890625 17.1875 \nL 4.890625 26.703125 \nz\n\" id=\"DejaVuSans-52\"/>\n       </defs>\n       <use xlink:href=\"#DejaVuSans-52\"/>\n       <use x=\"63.623047\" xlink:href=\"#DejaVuSans-48\"/>\n      </g>\n     </g>\n    </g>\n    <g id=\"xtick_4\">\n     <g id=\"line2d_4\">\n      <g>\n       <use style=\"stroke:#000000;stroke-width:0.8;\" x=\"373.680938\" xlink:href=\"#m42b41212a3\" y=\"280.406406\"/>\n      </g>\n     </g>\n     <g id=\"text_4\">\n      <!-- 60 -->\n      <g transform=\"translate(367.318438 295.004844)scale(0.1 -0.1)\">\n       <defs>\n        <path d=\"M 33.015625 40.375 \nQ 26.375 40.375 22.484375 35.828125 \nQ 18.609375 31.296875 18.609375 23.390625 \nQ 18.609375 15.53125 22.484375 10.953125 \nQ 26.375 6.390625 33.015625 6.390625 \nQ 39.65625 6.390625 43.53125 10.953125 \nQ 47.40625 15.53125 47.40625 23.390625 \nQ 47.40625 31.296875 43.53125 35.828125 \nQ 39.65625 40.375 33.015625 40.375 \nz\nM 52.59375 71.296875 \nL 52.59375 62.3125 \nQ 48.875 64.0625 45.09375 64.984375 \nQ 41.3125 65.921875 37.59375 65.921875 \nQ 27.828125 65.921875 22.671875 59.328125 \nQ 17.53125 52.734375 16.796875 39.40625 \nQ 19.671875 43.65625 24.015625 45.921875 \nQ 28.375 48.1875 33.59375 48.1875 \nQ 44.578125 48.1875 50.953125 41.515625 \nQ 57.328125 34.859375 57.328125 23.390625 \nQ 57.328125 12.15625 50.6875 5.359375 \nQ 44.046875 -1.421875 33.015625 -1.421875 \nQ 20.359375 -1.421875 13.671875 8.265625 \nQ 6.984375 17.96875 6.984375 36.375 \nQ 6.984375 53.65625 15.1875 63.9375 \nQ 23.390625 74.21875 37.203125 74.21875 \nQ 40.921875 74.21875 44.703125 73.484375 \nQ 48.484375 72.75 52.59375 71.296875 \nz\n\" id=\"DejaVuSans-54\"/>\n       </defs>\n       <use xlink:href=\"#DejaVuSans-54\"/>\n       <use x=\"63.623047\" xlink:href=\"#DejaVuSans-48\"/>\n      </g>\n     </g>\n    </g>\n    <g id=\"xtick_5\">\n     <g id=\"line2d_5\">\n      <g>\n       <use style=\"stroke:#000000;stroke-width:0.8;\" x=\"474.463599\" xlink:href=\"#m42b41212a3\" y=\"280.406406\"/>\n      </g>\n     </g>\n     <g id=\"text_5\">\n      <!-- 80 -->\n      <g transform=\"translate(468.101099 295.004844)scale(0.1 -0.1)\">\n       <defs>\n        <path d=\"M 31.78125 34.625 \nQ 24.75 34.625 20.71875 30.859375 \nQ 16.703125 27.09375 16.703125 20.515625 \nQ 16.703125 13.921875 20.71875 10.15625 \nQ 24.75 6.390625 31.78125 6.390625 \nQ 38.8125 6.390625 42.859375 10.171875 \nQ 46.921875 13.96875 46.921875 20.515625 \nQ 46.921875 27.09375 42.890625 30.859375 \nQ 38.875 34.625 31.78125 34.625 \nz\nM 21.921875 38.8125 \nQ 15.578125 40.375 12.03125 44.71875 \nQ 8.5 49.078125 8.5 55.328125 \nQ 8.5 64.0625 14.71875 69.140625 \nQ 20.953125 74.21875 31.78125 74.21875 \nQ 42.671875 74.21875 48.875 69.140625 \nQ 55.078125 64.0625 55.078125 55.328125 \nQ 55.078125 49.078125 51.53125 44.71875 \nQ 48 40.375 41.703125 38.8125 \nQ 48.828125 37.15625 52.796875 32.3125 \nQ 56.78125 27.484375 56.78125 20.515625 \nQ 56.78125 9.90625 50.3125 4.234375 \nQ 43.84375 -1.421875 31.78125 -1.421875 \nQ 19.734375 -1.421875 13.25 4.234375 \nQ 6.78125 9.90625 6.78125 20.515625 \nQ 6.78125 27.484375 10.78125 32.3125 \nQ 14.796875 37.15625 21.921875 38.8125 \nz\nM 18.3125 54.390625 \nQ 18.3125 48.734375 21.84375 45.5625 \nQ 25.390625 42.390625 31.78125 42.390625 \nQ 38.140625 42.390625 41.71875 45.5625 \nQ 45.3125 48.734375 45.3125 54.390625 \nQ 45.3125 60.0625 41.71875 63.234375 \nQ 38.140625 66.40625 31.78125 66.40625 \nQ 25.390625 66.40625 21.84375 63.234375 \nQ 18.3125 60.0625 18.3125 54.390625 \nz\n\" id=\"DejaVuSans-56\"/>\n       </defs>\n       <use xlink:href=\"#DejaVuSans-56\"/>\n       <use x=\"63.623047\" xlink:href=\"#DejaVuSans-48\"/>\n      </g>\n     </g>\n    </g>\n    <g id=\"xtick_6\">\n     <g id=\"line2d_6\">\n      <g>\n       <use style=\"stroke:#000000;stroke-width:0.8;\" x=\"575.24626\" xlink:href=\"#m42b41212a3\" y=\"280.406406\"/>\n      </g>\n     </g>\n     <g id=\"text_6\">\n      <!-- 100 -->\n      <g transform=\"translate(565.70251 295.004844)scale(0.1 -0.1)\">\n       <defs>\n        <path d=\"M 12.40625 8.296875 \nL 28.515625 8.296875 \nL 28.515625 63.921875 \nL 10.984375 60.40625 \nL 10.984375 69.390625 \nL 28.421875 72.90625 \nL 38.28125 72.90625 \nL 38.28125 8.296875 \nL 54.390625 8.296875 \nL 54.390625 0 \nL 12.40625 0 \nz\n\" id=\"DejaVuSans-49\"/>\n       </defs>\n       <use xlink:href=\"#DejaVuSans-49\"/>\n       <use x=\"63.623047\" xlink:href=\"#DejaVuSans-48\"/>\n       <use x=\"127.246094\" xlink:href=\"#DejaVuSans-48\"/>\n      </g>\n     </g>\n    </g>\n    <g id=\"xtick_7\">\n     <g id=\"line2d_7\">\n      <g>\n       <use style=\"stroke:#000000;stroke-width:0.8;\" x=\"676.028921\" xlink:href=\"#m42b41212a3\" y=\"280.406406\"/>\n      </g>\n     </g>\n     <g id=\"text_7\">\n      <!-- 120 -->\n      <g transform=\"translate(666.485171 295.004844)scale(0.1 -0.1)\">\n       <use xlink:href=\"#DejaVuSans-49\"/>\n       <use x=\"63.623047\" xlink:href=\"#DejaVuSans-50\"/>\n       <use x=\"127.246094\" xlink:href=\"#DejaVuSans-48\"/>\n      </g>\n     </g>\n    </g>\n    <g id=\"xtick_8\">\n     <g id=\"line2d_8\">\n      <g>\n       <use style=\"stroke:#000000;stroke-width:0.8;\" x=\"776.811582\" xlink:href=\"#m42b41212a3\" y=\"280.406406\"/>\n      </g>\n     </g>\n     <g id=\"text_8\">\n      <!-- 140 -->\n      <g transform=\"translate(767.267832 295.004844)scale(0.1 -0.1)\">\n       <use xlink:href=\"#DejaVuSans-49\"/>\n       <use x=\"63.623047\" xlink:href=\"#DejaVuSans-52\"/>\n       <use x=\"127.246094\" xlink:href=\"#DejaVuSans-48\"/>\n      </g>\n     </g>\n    </g>\n   </g>\n   <g id=\"matplotlib.axis_2\">\n    <g id=\"ytick_1\">\n     <g id=\"line2d_9\">\n      <defs>\n       <path d=\"M 0 0 \nL -3.5 0 \n\" id=\"mac2aba3395\" style=\"stroke:#000000;stroke-width:0.8;\"/>\n      </defs>\n      <g>\n       <use style=\"stroke:#000000;stroke-width:0.8;\" x=\"33.2875\" xlink:href=\"#mac2aba3395\" y=\"257.277199\"/>\n      </g>\n     </g>\n     <g id=\"text_9\">\n      <!-- 20 -->\n      <g transform=\"translate(13.5625 261.076418)scale(0.1 -0.1)\">\n       <use xlink:href=\"#DejaVuSans-50\"/>\n       <use x=\"63.623047\" xlink:href=\"#DejaVuSans-48\"/>\n      </g>\n     </g>\n    </g>\n    <g id=\"ytick_2\">\n     <g id=\"line2d_10\">\n      <g>\n       <use style=\"stroke:#000000;stroke-width:0.8;\" x=\"33.2875\" xlink:href=\"#mac2aba3395\" y=\"226.492452\"/>\n      </g>\n     </g>\n     <g id=\"text_10\">\n      <!-- 40 -->\n      <g transform=\"translate(13.5625 230.29167)scale(0.1 -0.1)\">\n       <use xlink:href=\"#DejaVuSans-52\"/>\n       <use x=\"63.623047\" xlink:href=\"#DejaVuSans-48\"/>\n      </g>\n     </g>\n    </g>\n    <g id=\"ytick_3\">\n     <g id=\"line2d_11\">\n      <g>\n       <use style=\"stroke:#000000;stroke-width:0.8;\" x=\"33.2875\" xlink:href=\"#mac2aba3395\" y=\"195.707704\"/>\n      </g>\n     </g>\n     <g id=\"text_11\">\n      <!-- 60 -->\n      <g transform=\"translate(13.5625 199.506923)scale(0.1 -0.1)\">\n       <use xlink:href=\"#DejaVuSans-54\"/>\n       <use x=\"63.623047\" xlink:href=\"#DejaVuSans-48\"/>\n      </g>\n     </g>\n    </g>\n    <g id=\"ytick_4\">\n     <g id=\"line2d_12\">\n      <g>\n       <use style=\"stroke:#000000;stroke-width:0.8;\" x=\"33.2875\" xlink:href=\"#mac2aba3395\" y=\"164.922957\"/>\n      </g>\n     </g>\n     <g id=\"text_12\">\n      <!-- 80 -->\n      <g transform=\"translate(13.5625 168.722175)scale(0.1 -0.1)\">\n       <use xlink:href=\"#DejaVuSans-56\"/>\n       <use x=\"63.623047\" xlink:href=\"#DejaVuSans-48\"/>\n      </g>\n     </g>\n    </g>\n    <g id=\"ytick_5\">\n     <g id=\"line2d_13\">\n      <g>\n       <use style=\"stroke:#000000;stroke-width:0.8;\" x=\"33.2875\" xlink:href=\"#mac2aba3395\" y=\"134.138209\"/>\n      </g>\n     </g>\n     <g id=\"text_13\">\n      <!-- 100 -->\n      <g transform=\"translate(7.2 137.937428)scale(0.1 -0.1)\">\n       <use xlink:href=\"#DejaVuSans-49\"/>\n       <use x=\"63.623047\" xlink:href=\"#DejaVuSans-48\"/>\n       <use x=\"127.246094\" xlink:href=\"#DejaVuSans-48\"/>\n      </g>\n     </g>\n    </g>\n    <g id=\"ytick_6\">\n     <g id=\"line2d_14\">\n      <g>\n       <use style=\"stroke:#000000;stroke-width:0.8;\" x=\"33.2875\" xlink:href=\"#mac2aba3395\" y=\"103.353461\"/>\n      </g>\n     </g>\n     <g id=\"text_14\">\n      <!-- 120 -->\n      <g transform=\"translate(7.2 107.15268)scale(0.1 -0.1)\">\n       <use xlink:href=\"#DejaVuSans-49\"/>\n       <use x=\"63.623047\" xlink:href=\"#DejaVuSans-50\"/>\n       <use x=\"127.246094\" xlink:href=\"#DejaVuSans-48\"/>\n      </g>\n     </g>\n    </g>\n    <g id=\"ytick_7\">\n     <g id=\"line2d_15\">\n      <g>\n       <use style=\"stroke:#000000;stroke-width:0.8;\" x=\"33.2875\" xlink:href=\"#mac2aba3395\" y=\"72.568714\"/>\n      </g>\n     </g>\n     <g id=\"text_15\">\n      <!-- 140 -->\n      <g transform=\"translate(7.2 76.367933)scale(0.1 -0.1)\">\n       <use xlink:href=\"#DejaVuSans-49\"/>\n       <use x=\"63.623047\" xlink:href=\"#DejaVuSans-52\"/>\n       <use x=\"127.246094\" xlink:href=\"#DejaVuSans-48\"/>\n      </g>\n     </g>\n    </g>\n    <g id=\"ytick_8\">\n     <g id=\"line2d_16\">\n      <g>\n       <use style=\"stroke:#000000;stroke-width:0.8;\" x=\"33.2875\" xlink:href=\"#mac2aba3395\" y=\"41.783966\"/>\n      </g>\n     </g>\n     <g id=\"text_16\">\n      <!-- 160 -->\n      <g transform=\"translate(7.2 45.583185)scale(0.1 -0.1)\">\n       <use xlink:href=\"#DejaVuSans-49\"/>\n       <use x=\"63.623047\" xlink:href=\"#DejaVuSans-54\"/>\n       <use x=\"127.246094\" xlink:href=\"#DejaVuSans-48\"/>\n      </g>\n     </g>\n    </g>\n    <g id=\"ytick_9\">\n     <g id=\"line2d_17\">\n      <g>\n       <use style=\"stroke:#000000;stroke-width:0.8;\" x=\"33.2875\" xlink:href=\"#mac2aba3395\" y=\"10.999219\"/>\n      </g>\n     </g>\n     <g id=\"text_17\">\n      <!-- 180 -->\n      <g transform=\"translate(7.2 14.798438)scale(0.1 -0.1)\">\n       <use xlink:href=\"#DejaVuSans-49\"/>\n       <use x=\"63.623047\" xlink:href=\"#DejaVuSans-56\"/>\n       <use x=\"127.246094\" xlink:href=\"#DejaVuSans-48\"/>\n      </g>\n     </g>\n    </g>\n   </g>\n   <g id=\"line2d_18\">\n    <path clip-path=\"url(#pcbc5dc97f9)\" d=\"M 71.332955 194.168467 \nL 76.372088 180.31533 \nL 81.411221 200.325416 \nL 86.450354 198.786179 \nL 91.489487 180.31533 \nL 96.52862 198.786179 \nL 101.567753 178.776093 \nL 106.606886 204.943128 \nL 111.646019 237.267113 \nL 116.685152 238.806351 \nL 121.724285 218.796265 \nL 126.763418 238.806351 \nL 131.802551 244.9633 \nL 136.841684 209.560841 \nL 141.880817 197.246942 \nL 146.91995 226.492452 \nL 151.959083 229.570926 \nL 156.998216 211.100078 \nL 162.037349 220.335502 \nL 167.076483 220.335502 \nL 172.115616 221.87474 \nL 182.193882 231.110164 \nL 192.272148 237.267113 \nL 197.311281 229.570926 \nL 202.350414 229.570926 \nL 207.389547 254.198725 \nL 212.42868 254.198725 \nL 217.467813 223.413977 \nL 222.506946 224.953214 \nL 227.546079 209.560841 \nL 232.585212 188.011517 \nL 237.624345 212.639315 \nL 242.663478 204.943128 \nL 247.702611 206.482366 \nL 252.741744 204.943128 \nL 262.820011 214.178553 \nL 267.859144 228.031689 \nL 272.898277 229.570926 \nL 277.93741 232.649401 \nL 282.976543 215.71779 \nL 288.015676 217.257027 \nL 293.054809 215.71779 \nL 298.093942 228.031689 \nL 303.133075 215.71779 \nL 308.172208 220.335502 \nL 318.250474 201.864654 \nL 323.289607 209.560841 \nL 328.32874 223.413977 \nL 333.367873 220.335502 \nL 338.407006 212.639315 \nL 343.446139 223.413977 \nL 348.485272 224.953214 \nL 353.524405 235.727876 \nL 358.563539 228.031689 \nL 363.602672 229.570926 \nL 368.641805 228.031689 \nL 373.680938 244.9633 \nL 383.759204 217.257027 \nL 388.798337 218.796265 \nL 393.83747 243.424063 \nL 398.876603 240.345588 \nL 403.915736 248.041775 \nL 408.954869 220.335502 \nL 413.994002 223.413977 \nL 419.033135 204.943128 \nL 424.072268 197.246942 \nL 429.111401 211.100078 \nL 434.150534 220.335502 \nL 439.189667 226.492452 \nL 444.2288 234.188639 \nL 449.267933 246.502538 \nL 454.307067 251.12025 \nL 459.3462 251.12025 \nL 464.385333 231.110164 \nL 469.424466 223.413977 \nL 474.463599 228.031689 \nL 479.502732 217.257027 \nL 484.541865 203.403891 \nL 489.580998 204.943128 \nL 494.620131 221.87474 \nL 499.659264 224.953214 \nL 504.698397 220.335502 \nL 509.73753 211.100078 \nL 514.776663 218.796265 \nL 519.815796 217.257027 \nL 524.854929 217.257027 \nL 529.894062 226.492452 \nL 545.011461 226.492452 \nL 550.050595 209.560841 \nL 555.089728 215.71779 \nL 560.128861 200.325416 \nL 565.167994 212.639315 \nL 570.207127 231.110164 \nL 575.24626 234.188639 \nL 580.285393 224.953214 \nL 585.324526 231.110164 \nL 590.363659 238.806351 \nL 595.402792 235.727876 \nL 600.441925 212.639315 \nL 605.481058 214.178553 \nL 610.520191 218.796265 \nL 615.559324 220.335502 \nL 620.598457 211.100078 \nL 625.63759 203.403891 \nL 630.676723 206.482366 \nL 635.715856 229.570926 \nL 640.754989 229.570926 \nL 645.794123 249.581012 \nL 650.833256 251.12025 \nL 655.872389 243.424063 \nL 660.911522 252.659487 \nL 665.950655 220.335502 \nL 670.989788 214.178553 \nL 676.028921 229.570926 \nL 681.068054 218.796265 \nL 686.107187 215.71779 \nL 691.14632 218.796265 \nL 696.185453 218.796265 \nL 701.224586 211.100078 \nL 706.263719 206.482366 \nL 711.302852 218.796265 \nL 716.341985 214.178553 \nL 721.381118 232.649401 \nL 726.420251 214.178553 \nL 731.459384 212.639315 \nL 736.498517 232.649401 \nL 741.537651 248.041775 \nL 746.576784 268.051861 \nL 751.615917 260.355674 \nL 756.65505 249.581012 \nL 761.694183 241.884826 \nL 766.733316 235.727876 \nL 771.772449 237.267113 \nL 776.811582 246.502538 \nL 781.850715 228.031689 \nL 786.889848 217.257027 \nL 791.928981 200.325416 \nL 796.968114 208.021603 \nL 802.007247 200.325416 \nL 807.04638 200.325416 \nL 812.085513 228.031689 \nL 817.124646 241.884826 \nL 822.163779 246.502538 \nL 827.202912 243.424063 \nL 832.242045 243.424063 \nL 832.242045 243.424063 \n\" style=\"fill:none;stroke:#1f77b4;stroke-linecap:square;stroke-width:1.5;\"/>\n   </g>\n   <g id=\"line2d_19\">\n    <path clip-path=\"url(#pcbc5dc97f9)\" d=\"M 71.332955 160.193506 \nL 76.372088 155.868839 \nL 81.411221 58.975178 \nL 86.450354 20.960952 \nL 91.489487 147.367768 \nL 96.52862 259.0482 \nL 101.567753 251.014664 \nL 106.606886 241.849357 \nL 116.685152 217.760827 \nL 121.724285 214.604681 \nL 131.802551 227.706848 \nL 136.841684 229.941673 \nL 141.880817 227.492706 \nL 146.91995 222.318947 \nL 151.959083 218.540252 \nL 156.998216 219.293676 \nL 162.037349 223.057769 \nL 167.076483 226.211402 \nL 172.115616 226.926642 \nL 177.154749 225.422759 \nL 182.193882 223.273449 \nL 187.233015 222.348905 \nL 192.272148 223.284312 \nL 197.311281 225.061002 \nL 202.350414 226.296054 \nL 207.389547 226.384676 \nL 217.467813 224.870341 \nL 222.506946 224.755085 \nL 227.546079 225.325376 \nL 232.585212 226.081143 \nL 237.624345 226.510114 \nL 242.663478 226.458507 \nL 252.741744 225.910787 \nL 257.780877 225.973303 \nL 267.859144 226.570833 \nL 272.898277 226.706705 \nL 293.054809 226.557763 \nL 303.133075 226.809407 \nL 313.211341 226.814633 \nL 323.289607 226.768711 \nL 348.485272 226.878541 \nL 388.798337 226.830974 \nL 449.267933 226.609992 \nL 534.933195 226.127025 \nL 539.972328 230.907413 \nL 545.011461 237.07509 \nL 550.050595 235.618756 \nL 555.089728 228.334165 \nL 560.128861 220.476312 \nL 565.167994 217.647914 \nL 570.207127 219.045567 \nL 575.24626 221.459556 \nL 580.285393 224.985274 \nL 585.324526 230.627966 \nL 590.363659 237.952426 \nL 595.402792 244.74811 \nL 600.441925 249.095453 \nL 605.481058 250.270808 \nL 610.520191 248.211967 \nL 615.559324 243.046458 \nL 620.598457 235.117716 \nL 625.63759 225.461988 \nL 630.676723 216.250902 \nL 635.715856 210.239817 \nL 640.754989 208.953035 \nL 645.794123 211.523529 \nL 655.872389 220.103963 \nL 660.911522 223.47617 \nL 665.950655 225.636096 \nL 670.989788 226.62938 \nL 676.028921 226.706629 \nL 681.068054 226.240819 \nL 686.107187 225.650476 \nL 691.14632 225.30513 \nL 696.185453 225.430333 \nL 701.224586 226.060592 \nL 706.263719 227.070899 \nL 716.341985 229.450844 \nL 721.381118 230.507725 \nL 726.420251 231.376071 \nL 731.459384 232.05449 \nL 741.537651 232.995627 \nL 781.850715 235.830895 \nL 796.968114 236.630478 \nL 812.085513 237.199089 \nL 827.202912 237.586899 \nL 832.242045 237.676784 \nL 832.242045 237.676784 \n\" style=\"fill:none;stroke:#ff7f0e;stroke-linecap:square;stroke-width:1.5;\"/>\n   </g>\n   <g id=\"patch_4\">\n    <path d=\"M 33.2875 280.406406 \nL 33.2875 8.606406 \n\" style=\"fill:none;stroke:#000000;stroke-linecap:square;stroke-linejoin:miter;stroke-width:0.8;\"/>\n   </g>\n   <g id=\"patch_5\">\n    <path d=\"M 870.2875 280.406406 \nL 870.2875 8.606406 \n\" style=\"fill:none;stroke:#000000;stroke-linecap:square;stroke-linejoin:miter;stroke-width:0.8;\"/>\n   </g>\n   <g id=\"patch_6\">\n    <path d=\"M 33.2875 280.406406 \nL 870.2875 280.406406 \n\" style=\"fill:none;stroke:#000000;stroke-linecap:square;stroke-linejoin:miter;stroke-width:0.8;\"/>\n   </g>\n   <g id=\"patch_7\">\n    <path d=\"M 33.2875 8.606406 \nL 870.2875 8.606406 \n\" style=\"fill:none;stroke:#000000;stroke-linecap:square;stroke-linejoin:miter;stroke-width:0.8;\"/>\n   </g>\n   <g id=\"legend_1\">\n    <g id=\"patch_8\">\n     <path d=\"M 808.551563 45.962656 \nL 863.2875 45.962656 \nQ 865.2875 45.962656 865.2875 43.962656 \nL 865.2875 15.606406 \nQ 865.2875 13.606406 863.2875 13.606406 \nL 808.551563 13.606406 \nQ 806.551563 13.606406 806.551563 15.606406 \nL 806.551563 43.962656 \nQ 806.551563 45.962656 808.551563 45.962656 \nz\n\" style=\"fill:#ffffff;opacity:0.8;stroke:#cccccc;stroke-linejoin:miter;\"/>\n    </g>\n    <g id=\"line2d_20\">\n     <path d=\"M 810.551563 21.704844 \nL 830.551563 21.704844 \n\" style=\"fill:none;stroke:#1f77b4;stroke-linecap:square;stroke-width:1.5;\"/>\n    </g>\n    <g id=\"line2d_21\"/>\n    <g id=\"text_18\">\n     <!-- true -->\n     <g transform=\"translate(838.551563 25.204844)scale(0.1 -0.1)\">\n      <defs>\n       <path d=\"M 18.3125 70.21875 \nL 18.3125 54.6875 \nL 36.8125 54.6875 \nL 36.8125 47.703125 \nL 18.3125 47.703125 \nL 18.3125 18.015625 \nQ 18.3125 11.328125 20.140625 9.421875 \nQ 21.96875 7.515625 27.59375 7.515625 \nL 36.8125 7.515625 \nL 36.8125 0 \nL 27.59375 0 \nQ 17.1875 0 13.234375 3.875 \nQ 9.28125 7.765625 9.28125 18.015625 \nL 9.28125 47.703125 \nL 2.6875 47.703125 \nL 2.6875 54.6875 \nL 9.28125 54.6875 \nL 9.28125 70.21875 \nz\n\" id=\"DejaVuSans-116\"/>\n       <path d=\"M 41.109375 46.296875 \nQ 39.59375 47.171875 37.8125 47.578125 \nQ 36.03125 48 33.890625 48 \nQ 26.265625 48 22.1875 43.046875 \nQ 18.109375 38.09375 18.109375 28.8125 \nL 18.109375 0 \nL 9.078125 0 \nL 9.078125 54.6875 \nL 18.109375 54.6875 \nL 18.109375 46.1875 \nQ 20.953125 51.171875 25.484375 53.578125 \nQ 30.03125 56 36.53125 56 \nQ 37.453125 56 38.578125 55.875 \nQ 39.703125 55.765625 41.0625 55.515625 \nz\n\" id=\"DejaVuSans-114\"/>\n       <path d=\"M 8.5 21.578125 \nL 8.5 54.6875 \nL 17.484375 54.6875 \nL 17.484375 21.921875 \nQ 17.484375 14.15625 20.5 10.265625 \nQ 23.53125 6.390625 29.59375 6.390625 \nQ 36.859375 6.390625 41.078125 11.03125 \nQ 45.3125 15.671875 45.3125 23.6875 \nL 45.3125 54.6875 \nL 54.296875 54.6875 \nL 54.296875 0 \nL 45.3125 0 \nL 45.3125 8.40625 \nQ 42.046875 3.421875 37.71875 1 \nQ 33.40625 -1.421875 27.6875 -1.421875 \nQ 18.265625 -1.421875 13.375 4.4375 \nQ 8.5 10.296875 8.5 21.578125 \nz\nM 31.109375 56 \nz\n\" id=\"DejaVuSans-117\"/>\n       <path d=\"M 56.203125 29.59375 \nL 56.203125 25.203125 \nL 14.890625 25.203125 \nQ 15.484375 15.921875 20.484375 11.0625 \nQ 25.484375 6.203125 34.421875 6.203125 \nQ 39.59375 6.203125 44.453125 7.46875 \nQ 49.3125 8.734375 54.109375 11.28125 \nL 54.109375 2.78125 \nQ 49.265625 0.734375 44.1875 -0.34375 \nQ 39.109375 -1.421875 33.890625 -1.421875 \nQ 20.796875 -1.421875 13.15625 6.1875 \nQ 5.515625 13.8125 5.515625 26.8125 \nQ 5.515625 40.234375 12.765625 48.109375 \nQ 20.015625 56 32.328125 56 \nQ 43.359375 56 49.78125 48.890625 \nQ 56.203125 41.796875 56.203125 29.59375 \nz\nM 47.21875 32.234375 \nQ 47.125 39.59375 43.09375 43.984375 \nQ 39.0625 48.390625 32.421875 48.390625 \nQ 24.90625 48.390625 20.390625 44.140625 \nQ 15.875 39.890625 15.1875 32.171875 \nz\n\" id=\"DejaVuSans-101\"/>\n      </defs>\n      <use xlink:href=\"#DejaVuSans-116\"/>\n      <use x=\"39.208984\" xlink:href=\"#DejaVuSans-114\"/>\n      <use x=\"80.322266\" xlink:href=\"#DejaVuSans-117\"/>\n      <use x=\"143.701172\" xlink:href=\"#DejaVuSans-101\"/>\n     </g>\n    </g>\n    <g id=\"line2d_22\">\n     <path d=\"M 810.551563 36.382969 \nL 830.551563 36.382969 \n\" style=\"fill:none;stroke:#ff7f0e;stroke-linecap:square;stroke-width:1.5;\"/>\n    </g>\n    <g id=\"line2d_23\"/>\n    <g id=\"text_19\">\n     <!-- pred -->\n     <g transform=\"translate(838.551563 39.882969)scale(0.1 -0.1)\">\n      <defs>\n       <path d=\"M 18.109375 8.203125 \nL 18.109375 -20.796875 \nL 9.078125 -20.796875 \nL 9.078125 54.6875 \nL 18.109375 54.6875 \nL 18.109375 46.390625 \nQ 20.953125 51.265625 25.265625 53.625 \nQ 29.59375 56 35.59375 56 \nQ 45.5625 56 51.78125 48.09375 \nQ 58.015625 40.1875 58.015625 27.296875 \nQ 58.015625 14.40625 51.78125 6.484375 \nQ 45.5625 -1.421875 35.59375 -1.421875 \nQ 29.59375 -1.421875 25.265625 0.953125 \nQ 20.953125 3.328125 18.109375 8.203125 \nz\nM 48.6875 27.296875 \nQ 48.6875 37.203125 44.609375 42.84375 \nQ 40.53125 48.484375 33.40625 48.484375 \nQ 26.265625 48.484375 22.1875 42.84375 \nQ 18.109375 37.203125 18.109375 27.296875 \nQ 18.109375 17.390625 22.1875 11.75 \nQ 26.265625 6.109375 33.40625 6.109375 \nQ 40.53125 6.109375 44.609375 11.75 \nQ 48.6875 17.390625 48.6875 27.296875 \nz\n\" id=\"DejaVuSans-112\"/>\n       <path d=\"M 45.40625 46.390625 \nL 45.40625 75.984375 \nL 54.390625 75.984375 \nL 54.390625 0 \nL 45.40625 0 \nL 45.40625 8.203125 \nQ 42.578125 3.328125 38.25 0.953125 \nQ 33.9375 -1.421875 27.875 -1.421875 \nQ 17.96875 -1.421875 11.734375 6.484375 \nQ 5.515625 14.40625 5.515625 27.296875 \nQ 5.515625 40.1875 11.734375 48.09375 \nQ 17.96875 56 27.875 56 \nQ 33.9375 56 38.25 53.625 \nQ 42.578125 51.265625 45.40625 46.390625 \nz\nM 14.796875 27.296875 \nQ 14.796875 17.390625 18.875 11.75 \nQ 22.953125 6.109375 30.078125 6.109375 \nQ 37.203125 6.109375 41.296875 11.75 \nQ 45.40625 17.390625 45.40625 27.296875 \nQ 45.40625 37.203125 41.296875 42.84375 \nQ 37.203125 48.484375 30.078125 48.484375 \nQ 22.953125 48.484375 18.875 42.84375 \nQ 14.796875 37.203125 14.796875 27.296875 \nz\n\" id=\"DejaVuSans-100\"/>\n      </defs>\n      <use xlink:href=\"#DejaVuSans-112\"/>\n      <use x=\"63.476562\" xlink:href=\"#DejaVuSans-114\"/>\n      <use x=\"102.339844\" xlink:href=\"#DejaVuSans-101\"/>\n      <use x=\"163.863281\" xlink:href=\"#DejaVuSans-100\"/>\n     </g>\n    </g>\n   </g>\n  </g>\n </g>\n <defs>\n  <clipPath id=\"pcbc5dc97f9\">\n   <rect height=\"271.8\" width=\"837\" x=\"33.2875\" y=\"8.606406\"/>\n  </clipPath>\n </defs>\n</svg>\n",
      "image/png": "[encoded data removed]"
     },
     "metadata": {
      "needs_background": "light"
     }
    }
   ],
   "source": [
    "plot_comparison(start_idx=0, length=500, train=False)"
   ]
  },
  {
   "cell_type": "code",
   "execution_count": null,
   "metadata": {},
   "outputs": [],
   "source": []
  }
 ]
}