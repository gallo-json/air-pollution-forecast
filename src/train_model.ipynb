{
 "metadata": {
  "language_info": {
   "codemirror_mode": {
    "name": "ipython",
    "version": 3
   },
   "file_extension": ".py",
   "mimetype": "text/x-python",
   "name": "python",
   "nbconvert_exporter": "python",
   "pygments_lexer": "ipython3",
   "version": "3.8.3"
  },
  "orig_nbformat": 2,
  "kernelspec": {
   "name": "python383jvsc74a57bd0dca0ade3e726a953b501b15e8e990130d2b7799f14cfd9f4271676035ebe5511",
   "display_name": "Python 3.8.3 64-bit ('base': conda)"
  }
 },
 "nbformat": 4,
 "nbformat_minor": 2,
 "cells": [
  {
   "cell_type": "code",
   "execution_count": 1,
   "metadata": {},
   "outputs": [],
   "source": [
    "import matplotlib.pyplot as plt\n",
    "import matplotlib.dates\n",
    "import tensorflow as tf\n",
    "import pandas as pd\n",
    "import numpy as np\n",
    "\n",
    "from sklearn.preprocessing import MinMaxScaler\n",
    "from tensorflow.keras.models import Sequential\n",
    "from tensorflow.keras.layers import Input, Dense, GRU, Embedding\n",
    "from tensorflow.keras.optimizers import RMSprop\n",
    "from tensorflow.keras.callbacks import EarlyStopping, ModelCheckpoint, TensorBoard, ReduceLROnPlateau\n",
    "from tensorflow.keras.backend import square, mean"
   ]
  },
  {
   "cell_type": "code",
   "execution_count": 13,
   "metadata": {},
   "outputs": [
    {
     "output_type": "execute_result",
     "data": {
      "text/plain": [
       "           Date  AQI  air_temp  dew_point_temp  sea_level_pressure  \\\n",
       "1515 2021-02-24   39      20.0            16.0              1018.0   \n",
       "1516 2021-02-25   30      20.0            17.0              1019.0   \n",
       "1517 2021-02-26   27      21.0            18.0              1014.0   \n",
       "1518 2021-02-27   29      22.0            19.0              1013.0   \n",
       "1519 2021-02-28   29      23.0            19.0              1013.0   \n",
       "\n",
       "      visibility  wind_speed  \n",
       "1515     10000.0      4.3750  \n",
       "1516      9000.0      5.0000  \n",
       "1517     10000.0      5.3125  \n",
       "1518     10000.0      5.9375  \n",
       "1519     10000.0      5.0000  "
      ],
      "text/html": "<div>\n<style scoped>\n    .dataframe tbody tr th:only-of-type {\n        vertical-align: middle;\n    }\n\n    .dataframe tbody tr th {\n        vertical-align: top;\n    }\n\n    .dataframe thead th {\n        text-align: right;\n    }\n</style>\n<table border=\"1\" class=\"dataframe\">\n  <thead>\n    <tr style=\"text-align: right;\">\n      <th></th>\n      <th>Date</th>\n      <th>AQI</th>\n      <th>air_temp</th>\n      <th>dew_point_temp</th>\n      <th>sea_level_pressure</th>\n      <th>visibility</th>\n      <th>wind_speed</th>\n    </tr>\n  </thead>\n  <tbody>\n    <tr>\n      <th>1515</th>\n      <td>2021-02-24</td>\n      <td>39</td>\n      <td>20.0</td>\n      <td>16.0</td>\n      <td>1018.0</td>\n      <td>10000.0</td>\n      <td>4.3750</td>\n    </tr>\n    <tr>\n      <th>1516</th>\n      <td>2021-02-25</td>\n      <td>30</td>\n      <td>20.0</td>\n      <td>17.0</td>\n      <td>1019.0</td>\n      <td>9000.0</td>\n      <td>5.0000</td>\n    </tr>\n    <tr>\n      <th>1517</th>\n      <td>2021-02-26</td>\n      <td>27</td>\n      <td>21.0</td>\n      <td>18.0</td>\n      <td>1014.0</td>\n      <td>10000.0</td>\n      <td>5.3125</td>\n    </tr>\n    <tr>\n      <th>1518</th>\n      <td>2021-02-27</td>\n      <td>29</td>\n      <td>22.0</td>\n      <td>19.0</td>\n      <td>1013.0</td>\n      <td>10000.0</td>\n      <td>5.9375</td>\n    </tr>\n    <tr>\n      <th>1519</th>\n      <td>2021-02-28</td>\n      <td>29</td>\n      <td>23.0</td>\n      <td>19.0</td>\n      <td>1013.0</td>\n      <td>10000.0</td>\n      <td>5.0000</td>\n    </tr>\n  </tbody>\n</table>\n</div>"
     },
     "metadata": {},
     "execution_count": 13
    }
   ],
   "source": [
    "df = pd.read_csv(\"/home/jose/Programming/aiml/Data/houston-AQI-weather/filled-in-data/Oyster Creek C1607.csv\")\n",
    "df['Date'] = pd.to_datetime(df['Date'])\n",
    "del df['Unnamed: 0']\n",
    "\n",
    "df.tail()"
   ]
  },
  {
   "cell_type": "code",
   "execution_count": 14,
   "metadata": {},
   "outputs": [
    {
     "output_type": "execute_result",
     "data": {
      "text/plain": [
       "        Date  AQI   air_temp  dew_point_temp  sea_level_pressure  \\\n",
       "0 2017-01-01   31  20.121739       17.578261         1011.065217   \n",
       "1 2017-01-02   39  22.243478       17.991304         1010.547826   \n",
       "2 2017-01-03   45  17.178261       10.843478         1014.776190   \n",
       "3 2017-01-04   16  11.856522        5.769565         1018.547826   \n",
       "4 2017-01-05   11  12.904348        9.900000         1013.213043   \n",
       "\n",
       "     visibility  wind_speed  Year  \n",
       "0  13311.826087    2.618182  2017  \n",
       "1  13714.173913    4.960000  2017  \n",
       "2  11859.869565    2.457143  2017  \n",
       "3  16093.000000    4.136364  2017  \n",
       "4  14833.652174    3.000000  2017  "
      ],
      "text/html": "<div>\n<style scoped>\n    .dataframe tbody tr th:only-of-type {\n        vertical-align: middle;\n    }\n\n    .dataframe tbody tr th {\n        vertical-align: top;\n    }\n\n    .dataframe thead th {\n        text-align: right;\n    }\n</style>\n<table border=\"1\" class=\"dataframe\">\n  <thead>\n    <tr style=\"text-align: right;\">\n      <th></th>\n      <th>Date</th>\n      <th>AQI</th>\n      <th>air_temp</th>\n      <th>dew_point_temp</th>\n      <th>sea_level_pressure</th>\n      <th>visibility</th>\n      <th>wind_speed</th>\n      <th>Year</th>\n    </tr>\n  </thead>\n  <tbody>\n    <tr>\n      <th>0</th>\n      <td>2017-01-01</td>\n      <td>31</td>\n      <td>20.121739</td>\n      <td>17.578261</td>\n      <td>1011.065217</td>\n      <td>13311.826087</td>\n      <td>2.618182</td>\n      <td>2017</td>\n    </tr>\n    <tr>\n      <th>1</th>\n      <td>2017-01-02</td>\n      <td>39</td>\n      <td>22.243478</td>\n      <td>17.991304</td>\n      <td>1010.547826</td>\n      <td>13714.173913</td>\n      <td>4.960000</td>\n      <td>2017</td>\n    </tr>\n    <tr>\n      <th>2</th>\n      <td>2017-01-03</td>\n      <td>45</td>\n      <td>17.178261</td>\n      <td>10.843478</td>\n      <td>1014.776190</td>\n      <td>11859.869565</td>\n      <td>2.457143</td>\n      <td>2017</td>\n    </tr>\n    <tr>\n      <th>3</th>\n      <td>2017-01-04</td>\n      <td>16</td>\n      <td>11.856522</td>\n      <td>5.769565</td>\n      <td>1018.547826</td>\n      <td>16093.000000</td>\n      <td>4.136364</td>\n      <td>2017</td>\n    </tr>\n    <tr>\n      <th>4</th>\n      <td>2017-01-05</td>\n      <td>11</td>\n      <td>12.904348</td>\n      <td>9.900000</td>\n      <td>1013.213043</td>\n      <td>14833.652174</td>\n      <td>3.000000</td>\n      <td>2017</td>\n    </tr>\n  </tbody>\n</table>\n</div>"
     },
     "metadata": {},
     "execution_count": 14
    }
   ],
   "source": [
    "df['Year'] = df.Date.dt.year\n",
    "\n",
    "df.head()"
   ]
  },
  {
   "cell_type": "code",
   "execution_count": null,
   "metadata": {},
   "outputs": [],
   "source": []
  }
 ]
}