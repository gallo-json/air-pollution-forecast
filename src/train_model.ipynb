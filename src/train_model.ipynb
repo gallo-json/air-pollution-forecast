{
 "metadata": {
  "language_info": {
   "codemirror_mode": {
    "name": "ipython",
    "version": 3
   },
   "file_extension": ".py",
   "mimetype": "text/x-python",
   "name": "python",
   "nbconvert_exporter": "python",
   "pygments_lexer": "ipython3",
   "version": "3.8.3"
  },
  "orig_nbformat": 2,
  "kernelspec": {
   "name": "python383jvsc74a57bd0dca0ade3e726a953b501b15e8e990130d2b7799f14cfd9f4271676035ebe5511",
   "display_name": "Python 3.8.3 64-bit ('base': conda)"
  }
 },
 "nbformat": 4,
 "nbformat_minor": 2,
 "cells": [
  {
   "cell_type": "code",
   "execution_count": 1,
   "metadata": {},
   "outputs": [],
   "source": [
    "import matplotlib.pyplot as plt\n",
    "import matplotlib.dates\n",
    "import tensorflow as tf\n",
    "import pandas as pd\n",
    "import numpy as np\n",
    "\n",
    "from sklearn.preprocessing import MinMaxScaler\n",
    "from tensorflow.keras.models import Sequential\n",
    "from tensorflow.keras.layers import Input, Dense, GRU, Embedding\n",
    "from tensorflow.keras.optimizers import RMSprop\n",
    "from tensorflow.keras.callbacks import EarlyStopping, ModelCheckpoint, TensorBoard, ReduceLROnPlateau\n",
    "from tensorflow.keras.backend import square, mean"
   ]
  },
  {
   "cell_type": "code",
   "execution_count": 2,
   "metadata": {},
   "outputs": [
    {
     "output_type": "execute_result",
     "data": {
      "text/plain": [
       "           Date  AQI  air_temp  dew_point_temp  sea_level_pressure  \\\n",
       "1515 2021-02-24   39      20.0            16.0              1018.0   \n",
       "1516 2021-02-25   30      20.0            17.0              1019.0   \n",
       "1517 2021-02-26   27      21.0            18.0              1014.0   \n",
       "1518 2021-02-27   29      22.0            19.0              1013.0   \n",
       "1519 2021-02-28   29      23.0            19.0              1013.0   \n",
       "\n",
       "      visibility  wind_speed  \n",
       "1515     10000.0      4.3750  \n",
       "1516      9000.0      5.0000  \n",
       "1517     10000.0      5.3125  \n",
       "1518     10000.0      5.9375  \n",
       "1519     10000.0      5.0000  "
      ],
      "text/html": "<div>\n<style scoped>\n    .dataframe tbody tr th:only-of-type {\n        vertical-align: middle;\n    }\n\n    .dataframe tbody tr th {\n        vertical-align: top;\n    }\n\n    .dataframe thead th {\n        text-align: right;\n    }\n</style>\n<table border=\"1\" class=\"dataframe\">\n  <thead>\n    <tr style=\"text-align: right;\">\n      <th></th>\n      <th>Date</th>\n      <th>AQI</th>\n      <th>air_temp</th>\n      <th>dew_point_temp</th>\n      <th>sea_level_pressure</th>\n      <th>visibility</th>\n      <th>wind_speed</th>\n    </tr>\n  </thead>\n  <tbody>\n    <tr>\n      <th>1515</th>\n      <td>2021-02-24</td>\n      <td>39</td>\n      <td>20.0</td>\n      <td>16.0</td>\n      <td>1018.0</td>\n      <td>10000.0</td>\n      <td>4.3750</td>\n    </tr>\n    <tr>\n      <th>1516</th>\n      <td>2021-02-25</td>\n      <td>30</td>\n      <td>20.0</td>\n      <td>17.0</td>\n      <td>1019.0</td>\n      <td>9000.0</td>\n      <td>5.0000</td>\n    </tr>\n    <tr>\n      <th>1517</th>\n      <td>2021-02-26</td>\n      <td>27</td>\n      <td>21.0</td>\n      <td>18.0</td>\n      <td>1014.0</td>\n      <td>10000.0</td>\n      <td>5.3125</td>\n    </tr>\n    <tr>\n      <th>1518</th>\n      <td>2021-02-27</td>\n      <td>29</td>\n      <td>22.0</td>\n      <td>19.0</td>\n      <td>1013.0</td>\n      <td>10000.0</td>\n      <td>5.9375</td>\n    </tr>\n    <tr>\n      <th>1519</th>\n      <td>2021-02-28</td>\n      <td>29</td>\n      <td>23.0</td>\n      <td>19.0</td>\n      <td>1013.0</td>\n      <td>10000.0</td>\n      <td>5.0000</td>\n    </tr>\n  </tbody>\n</table>\n</div>"
     },
     "metadata": {},
     "execution_count": 2
    }
   ],
   "source": [
    "df = pd.read_csv(\"/home/jose/Programming/aiml/Data/houston-AQI-weather/filled-in-data/Oyster Creek C1607.csv\")\n",
    "df['Date'] = pd.to_datetime(df['Date'])\n",
    "del df['Unnamed: 0']\n",
    "\n",
    "df.tail()"
   ]
  },
  {
   "cell_type": "code",
   "execution_count": 3,
   "metadata": {},
   "outputs": [],
   "source": [
    "df['Day'] = df.Date.dt.dayofyear\n",
    "df['Year'] = df.Date.dt.year - 2017\n",
    "df.index = df.Date\n"
   ]
  },
  {
   "cell_type": "code",
   "execution_count": 4,
   "metadata": {},
   "outputs": [
    {
     "output_type": "execute_result",
     "data": {
      "text/plain": [
       "            AQI  Day  Year\n",
       "Date                      \n",
       "2021-02-24   39   55     4\n",
       "2021-02-25   30   56     4\n",
       "2021-02-26   27   57     4\n",
       "2021-02-27   29   58     4\n",
       "2021-02-28   29   59     4"
      ],
      "text/html": "<div>\n<style scoped>\n    .dataframe tbody tr th:only-of-type {\n        vertical-align: middle;\n    }\n\n    .dataframe tbody tr th {\n        vertical-align: top;\n    }\n\n    .dataframe thead th {\n        text-align: right;\n    }\n</style>\n<table border=\"1\" class=\"dataframe\">\n  <thead>\n    <tr style=\"text-align: right;\">\n      <th></th>\n      <th>AQI</th>\n      <th>Day</th>\n      <th>Year</th>\n    </tr>\n    <tr>\n      <th>Date</th>\n      <th></th>\n      <th></th>\n      <th></th>\n    </tr>\n  </thead>\n  <tbody>\n    <tr>\n      <th>2021-02-24</th>\n      <td>39</td>\n      <td>55</td>\n      <td>4</td>\n    </tr>\n    <tr>\n      <th>2021-02-25</th>\n      <td>30</td>\n      <td>56</td>\n      <td>4</td>\n    </tr>\n    <tr>\n      <th>2021-02-26</th>\n      <td>27</td>\n      <td>57</td>\n      <td>4</td>\n    </tr>\n    <tr>\n      <th>2021-02-27</th>\n      <td>29</td>\n      <td>58</td>\n      <td>4</td>\n    </tr>\n    <tr>\n      <th>2021-02-28</th>\n      <td>29</td>\n      <td>59</td>\n      <td>4</td>\n    </tr>\n  </tbody>\n</table>\n</div>"
     },
     "metadata": {},
     "execution_count": 4
    }
   ],
   "source": [
    "### DELETE all the other features, for now\n",
    "del df['Date']\n",
    "del df['air_temp']\n",
    "del df['dew_point_temp']\n",
    "del df['sea_level_pressure']\n",
    "del df['visibility']\n",
    "del df['wind_speed']\n",
    "\n",
    "df.tail()"
   ]
  }
 ]
}