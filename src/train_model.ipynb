{
 "metadata": {
  "language_info": {
   "codemirror_mode": {
    "name": "ipython",
    "version": 3
   },
   "file_extension": ".py",
   "mimetype": "text/x-python",
   "name": "python",
   "nbconvert_exporter": "python",
   "pygments_lexer": "ipython3",
   "version": "3.8.3"
  },
  "orig_nbformat": 2,
  "kernelspec": {
   "name": "python383jvsc74a57bd0dca0ade3e726a953b501b15e8e990130d2b7799f14cfd9f4271676035ebe5511",
   "display_name": "Python 3.8.3 64-bit ('base': conda)"
  }
 },
 "nbformat": 4,
 "nbformat_minor": 2,
 "cells": [
  {
   "cell_type": "code",
   "execution_count": 1,
   "metadata": {},
   "outputs": [],
   "source": [
    "import matplotlib.pyplot as plt\n",
    "import matplotlib.dates\n",
    "import tensorflow as tf\n",
    "import pandas as pd\n",
    "import numpy as np\n",
    "\n",
    "from sklearn.preprocessing import MinMaxScaler\n",
    "from tensorflow.keras.models import Sequential\n",
    "from tensorflow.keras.layers import Input, Dense, GRU, Embedding\n",
    "from tensorflow.keras.optimizers import RMSprop\n",
    "from tensorflow.keras.callbacks import EarlyStopping, ModelCheckpoint, TensorBoard, ReduceLROnPlateau\n",
    "from tensorflow.keras.backend import square, mean"
   ]
  },
  {
   "cell_type": "code",
   "execution_count": 2,
   "metadata": {},
   "outputs": [
    {
     "output_type": "execute_result",
     "data": {
      "text/plain": [
       "            AQI   air_temp  dew_point_temp  sea_level_pressure    visibility  \\\n",
       "Date                                                                           \n",
       "2017-01-01   31  20.121739       17.578261         1011.065217  13311.826087   \n",
       "2017-01-02   39  22.243478       17.991304         1010.547826  13714.173913   \n",
       "2017-01-03   45  17.178261       10.843478         1014.776190  11859.869565   \n",
       "2017-01-04   16  11.856522        5.769565         1018.547826  16093.000000   \n",
       "2017-01-05   11  12.904348        9.900000         1013.213043  14833.652174   \n",
       "\n",
       "            wind_speed  \n",
       "Date                    \n",
       "2017-01-01    2.618182  \n",
       "2017-01-02    4.960000  \n",
       "2017-01-03    2.457143  \n",
       "2017-01-04    4.136364  \n",
       "2017-01-05    3.000000  "
      ],
      "text/html": "<div>\n<style scoped>\n    .dataframe tbody tr th:only-of-type {\n        vertical-align: middle;\n    }\n\n    .dataframe tbody tr th {\n        vertical-align: top;\n    }\n\n    .dataframe thead th {\n        text-align: right;\n    }\n</style>\n<table border=\"1\" class=\"dataframe\">\n  <thead>\n    <tr style=\"text-align: right;\">\n      <th></th>\n      <th>AQI</th>\n      <th>air_temp</th>\n      <th>dew_point_temp</th>\n      <th>sea_level_pressure</th>\n      <th>visibility</th>\n      <th>wind_speed</th>\n    </tr>\n    <tr>\n      <th>Date</th>\n      <th></th>\n      <th></th>\n      <th></th>\n      <th></th>\n      <th></th>\n      <th></th>\n    </tr>\n  </thead>\n  <tbody>\n    <tr>\n      <th>2017-01-01</th>\n      <td>31</td>\n      <td>20.121739</td>\n      <td>17.578261</td>\n      <td>1011.065217</td>\n      <td>13311.826087</td>\n      <td>2.618182</td>\n    </tr>\n    <tr>\n      <th>2017-01-02</th>\n      <td>39</td>\n      <td>22.243478</td>\n      <td>17.991304</td>\n      <td>1010.547826</td>\n      <td>13714.173913</td>\n      <td>4.960000</td>\n    </tr>\n    <tr>\n      <th>2017-01-03</th>\n      <td>45</td>\n      <td>17.178261</td>\n      <td>10.843478</td>\n      <td>1014.776190</td>\n      <td>11859.869565</td>\n      <td>2.457143</td>\n    </tr>\n    <tr>\n      <th>2017-01-04</th>\n      <td>16</td>\n      <td>11.856522</td>\n      <td>5.769565</td>\n      <td>1018.547826</td>\n      <td>16093.000000</td>\n      <td>4.136364</td>\n    </tr>\n    <tr>\n      <th>2017-01-05</th>\n      <td>11</td>\n      <td>12.904348</td>\n      <td>9.900000</td>\n      <td>1013.213043</td>\n      <td>14833.652174</td>\n      <td>3.000000</td>\n    </tr>\n  </tbody>\n</table>\n</div>"
     },
     "metadata": {},
     "execution_count": 2
    }
   ],
   "source": [
    "df = pd.read_csv(\"/home/jose/Programming/aiml/Data/houston-AQI-weather/filled-in-data/Oyster Creek C1607.csv\", index_col='Date')\n",
    "del df['Unnamed: 0']\n",
    "\n",
    "df.head(5)"
   ]
  },
  {
   "cell_type": "code",
   "execution_count": null,
   "metadata": {},
   "outputs": [],
   "source": []
  }
 ]
}